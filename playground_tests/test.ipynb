{
 "cells": [
  {
   "cell_type": "code",
   "execution_count": 30,
   "metadata": {},
   "outputs": [
    {
     "name": "stdout",
     "output_type": "stream",
     "text": [
      "solution:  [-0.99844855  0.64386157 -0.22382624 -0.10671875 -0.26977205  0.3090943\n",
      " -0.3509508   0.27871048 -0.64727089 -0.43064547  0.90069811  0.68885167\n",
      " -0.80599671  0.67690318 -0.7104346   0.73527607 -1.34074066 -0.99695317\n",
      " -0.41591103 -0.14583645]\n"
     ]
    },
    {
     "name": "stderr",
     "output_type": "stream",
     "text": [
      "/home/lizri/.local/lib/python3.10/site-packages/cvxpy/reductions/solvers/solving_chain.py:336: FutureWarning: \n",
      "    Your problem is being solved with the ECOS solver by default. Starting in \n",
      "    CVXPY 1.5.0, Clarabel will be used as the default solver instead. To continue \n",
      "    using ECOS, specify the ECOS solver explicitly using the ``solver=cp.ECOS`` \n",
      "    argument to the ``problem.solve`` method.\n",
      "    \n",
      "  warnings.warn(ECOS_DEPRECATION_MSG, FutureWarning)\n"
     ]
    }
   ],
   "source": [
    "import cvxpy as cp\n",
    "import numpy as np\n",
    "\n",
    "m = 30\n",
    "n = 20\n",
    "np.random.seed(1)\n",
    "A = np.random.randn(m, n)\n",
    "b = np.random.randn(m)\n",
    "\n",
    "x_o = np.random.randn(n)\n",
    "\n",
    "# Construct the problem.\n",
    "x = cp.Variable(n)\n",
    "objective = cp.Minimize(cp.sum_squares(A @ x - b))\n",
    "constraints = [cp.norm2(x - x_o) <= 1]\n",
    "prob = cp.Problem(objective, constraints)\n",
    "\n",
    "# The optimal objective value is returned by `prob.solve()`.\n",
    "result = prob.solve()\n",
    "# The optimal value for x is stored in `x.value`.\n",
    "print('solution: ', x.value)"
   ]
  },
  {
   "cell_type": "code",
   "execution_count": null,
   "metadata": {},
   "outputs": [],
   "source": []
  },
  {
   "cell_type": "code",
   "execution_count": null,
   "metadata": {},
   "outputs": [],
   "source": []
  },
  {
   "cell_type": "markdown",
   "metadata": {},
   "source": [
    "Stockage in Bytes"
   ]
  },
  {
   "cell_type": "code",
   "execution_count": 49,
   "metadata": {},
   "outputs": [
    {
     "name": "stdout",
     "output_type": "stream",
     "text": [
      "FJLT:  2460800 Bytes\n",
      "CBSCFD:  2688800 Bytes\n",
      "FJLT > CBSCFD:  False\n"
     ]
    }
   ],
   "source": []
  },
  {
   "cell_type": "code",
   "execution_count": null,
   "metadata": {},
   "outputs": [],
   "source": []
  },
  {
   "cell_type": "code",
   "execution_count": null,
   "metadata": {},
   "outputs": [],
   "source": []
  },
  {
   "cell_type": "code",
   "execution_count": 31,
   "metadata": {},
   "outputs": [
    {
     "data": {
      "text/plain": [
       "1.0000001201375888"
      ]
     },
     "execution_count": 31,
     "metadata": {},
     "output_type": "execute_result"
    }
   ],
   "source": [
    "np.linalg.norm(x.value - x_o, 2)"
   ]
  },
  {
   "cell_type": "code",
   "execution_count": 32,
   "metadata": {},
   "outputs": [
    {
     "name": "stdout",
     "output_type": "stream",
     "text": [
      "MSE with constraint: 0.5202306926020343\n"
     ]
    }
   ],
   "source": [
    "print(f'MSE with constraint: {(1/m) * np.linalg.norm((A @ x.value) - b, 2)}')"
   ]
  },
  {
   "cell_type": "code",
   "execution_count": 33,
   "metadata": {},
   "outputs": [
    {
     "name": "stdout",
     "output_type": "stream",
     "text": [
      "MSE wo constraint: 0.12583072466261866\n"
     ]
    }
   ],
   "source": [
    "x_hat = np.linalg.inv((A.T @ A)) @ A.T @ b\n",
    "print(f'MSE wo constraint: {(1/m) * np.linalg.norm((A @ x_hat) - b, 2)}')\n"
   ]
  },
  {
   "cell_type": "code",
   "execution_count": 39,
   "metadata": {},
   "outputs": [
    {
     "data": {
      "text/plain": [
       "array([[ 1.        ,  0.        ,  0.        ,  0.        ,  0.        ,\n",
       "         0.        ,  0.        ],\n",
       "       [ 0.        ,  1.        ,  0.        ,  0.        ,  0.        ,\n",
       "         0.        ,  0.        ],\n",
       "       [ 0.        ,  0.        ,  1.        ,  0.        ,  0.        ,\n",
       "         0.        ,  0.        ],\n",
       "       [ 0.        ,  0.        ,  0.        , -0.45611756,  0.        ,\n",
       "         0.        ,  0.        ],\n",
       "       [ 0.        ,  0.        ,  0.        ,  0.        , -0.97989025,\n",
       "         0.        ,  0.        ],\n",
       "       [ 0.        ,  0.        ,  0.        ,  0.        ,  0.        ,\n",
       "         0.69257435,  0.        ],\n",
       "       [ 0.        ,  0.        ,  0.        ,  0.        ,  0.        ,\n",
       "         0.        , -0.47867236]])"
      ]
     },
     "execution_count": 39,
     "metadata": {},
     "output_type": "execute_result"
    }
   ],
   "source": [
    "import numpy as np\n",
    "from scipy.linalg import block_diag\n",
    "\n",
    "\n",
    "I = np.identity(3)\n",
    "x = np.random.randn(4)\n",
    "block_diag(I, np.diag(x))\n"
   ]
  },
  {
   "cell_type": "code",
   "execution_count": 49,
   "metadata": {},
   "outputs": [
    {
     "data": {
      "text/plain": [
       "array([[ 1.64837996e-01, -4.25446432e-03, -3.12776308e-02,\n",
       "         7.39918377e-02],\n",
       "       [-4.25446432e-03,  1.09807612e-04,  8.07274824e-04,\n",
       "        -1.90972737e-03],\n",
       "       [-3.12776308e-02,  8.07274824e-04,  5.93485854e-03,\n",
       "        -1.40397811e-02],\n",
       "       [ 7.39918377e-02, -1.90972737e-03, -1.40397811e-02,\n",
       "         3.32131679e-02]])"
      ]
     },
     "execution_count": 49,
     "metadata": {},
     "output_type": "execute_result"
    }
   ],
   "source": [
    "import numpy as np;\n",
    "import scipy.linalg\n",
    "a = np.random.randn(4)\n",
    "A = np.outer(a,a)\n",
    "np.linalg.pinv(A)\n"
   ]
  },
  {
   "cell_type": "code",
   "execution_count": 50,
   "metadata": {},
   "outputs": [
    {
     "name": "stdout",
     "output_type": "stream",
     "text": [
      "1.657428799999794e-05 5.696233999997968e-06 1.547840100000375e-05\n"
     ]
    }
   ],
   "source": [
    "import numpy as np;\n",
    "import scipy.linalg\n",
    "import time\n",
    "\n",
    "dim = 100\n",
    "m = 50\n",
    "\n",
    "\n",
    "\n",
    "t1, t2, t3 = [], [], []\n",
    "for _ in range(1000):\n",
    "    H = np.random.randn(m, m)\n",
    "\n",
    "    b = np.random.randn(dim)\n",
    "    Z = np.random.randn(m,dim)\n",
    "\n",
    "    t0 =  time.process_time() \n",
    "    p = H @ Z @ b\n",
    "    t1.append(time.process_time() - t0)\n",
    "\n",
    "\n",
    "    t0 =  time.process_time() \n",
    "    k = (b @ b) - (b.T @ Z.T @ p)\n",
    "    t2.append(time.process_time() - t0 )\n",
    "\n",
    "\n",
    "    t0 =  time.process_time() \n",
    "    row = - p.T /k \n",
    "    H = np.append(H, row.reshape(1, len(row)), axis=0)\n",
    "    column = np.append(- p/k, 1/k)\n",
    "    H = np.append(H, column.reshape(len(column), 1), axis=1)\n",
    "    t3.append(time.process_time() - t0)\n",
    "\n",
    "print(np.mean(t1), np.mean(t2), np.mean(t3)) \n"
   ]
  },
  {
   "cell_type": "code",
   "execution_count": 51,
   "metadata": {},
   "outputs": [
    {
     "data": {
      "text/plain": [
       "0.027533769607543945"
      ]
     },
     "execution_count": 51,
     "metadata": {},
     "output_type": "execute_result"
    }
   ],
   "source": [
    "t0 =  time.time() \n",
    "Z = np.random.randn(2*m,dim)\n",
    "np.linalg.svd(Z)\n",
    "time.time() - t0"
   ]
  },
  {
   "cell_type": "code",
   "execution_count": 104,
   "metadata": {},
   "outputs": [
    {
     "data": {
      "text/plain": [
       "-2.409855339184057"
      ]
     },
     "execution_count": 104,
     "metadata": {},
     "output_type": "execute_result"
    }
   ],
   "source": [
    "\n",
    "np.log10((0.0004759392400882003+0.0034158083111105932))"
   ]
  },
  {
   "cell_type": "code",
   "execution_count": 105,
   "metadata": {},
   "outputs": [
    {
     "data": {
      "text/plain": [
       "-1.4418969601923568"
      ]
     },
     "execution_count": 105,
     "metadata": {},
     "output_type": "execute_result"
    }
   ],
   "source": [
    "np.log10((0.0014079372666666351+0.03474162474999787))"
   ]
  },
  {
   "cell_type": "code",
   "execution_count": 239,
   "metadata": {},
   "outputs": [],
   "source": [
    "action_set = np.random.randn(1000, 100)\n",
    "theta_est = np.random.randn(100)\n",
    "Vinv = np.outer(b, b) + ((1/.5)* np.identity(100))"
   ]
  },
  {
   "cell_type": "code",
   "execution_count": 240,
   "metadata": {},
   "outputs": [
    {
     "data": {
      "text/plain": [
       "0.17337459899999885"
      ]
     },
     "execution_count": 240,
     "metadata": {},
     "output_type": "execute_result"
    }
   ],
   "source": [
    "t0 = time.process_time()\n",
    "i = 0\n",
    "ucb_max = float('-inf')\n",
    "for idx, a in enumerate(action_set):\n",
    "    ucb = (a @ theta_est) + ( np.sqrt(a @ (Vinv @ a)))\n",
    "    if ucb > ucb_max:\n",
    "        ucb_max = ucb\n",
    "        a_max = a\n",
    "        i = idx\n",
    "time.process_time() - t0\n"
   ]
  },
  {
   "cell_type": "code",
   "execution_count": 241,
   "metadata": {},
   "outputs": [
    {
     "name": "stderr",
     "output_type": "stream",
     "text": [
      "/tmp/ipykernel_403952/832206932.py:2: RuntimeWarning: invalid value encountered in sqrt\n",
      "  M = (action_set @ theta_est) + np.sqrt(action_set @ Vinv @ action_set.T)\n"
     ]
    },
    {
     "data": {
      "text/plain": [
       "0.14810912600000847"
      ]
     },
     "execution_count": 241,
     "metadata": {},
     "output_type": "execute_result"
    }
   ],
   "source": [
    "\n",
    "t0 = time.process_time()\n",
    "M = (action_set @ theta_est) + np.sqrt(action_set @ Vinv @ action_set.T)\n",
    "M [np.isnan(M)] = float('-inf')\n",
    "j = np.where(M==np.max(M))\n",
    "time.process_time() - t0\n"
   ]
  },
  {
   "cell_type": "code",
   "execution_count": 242,
   "metadata": {},
   "outputs": [
    {
     "data": {
      "text/plain": [
       "(535, (array([992]), array([535])))"
      ]
     },
     "execution_count": 242,
     "metadata": {},
     "output_type": "execute_result"
    }
   ],
   "source": [
    "i, j"
   ]
  },
  {
   "cell_type": "code",
   "execution_count": 243,
   "metadata": {},
   "outputs": [
    {
     "data": {
      "text/plain": [
       "(992, 535)"
      ]
     },
     "execution_count": 243,
     "metadata": {},
     "output_type": "execute_result"
    }
   ],
   "source": [
    "x,y = np.unravel_index(M.argmax(), M.shape)\n",
    "x,y"
   ]
  },
  {
   "cell_type": "code",
   "execution_count": 32,
   "metadata": {},
   "outputs": [
    {
     "name": "stdout",
     "output_type": "stream",
     "text": [
      "2.5\n",
      "5.0\n",
      "10.0\n",
      "15.0\n",
      "20.0\n",
      "25.0\n",
      "40.0\n",
      "45.0\n",
      "50.0\n"
     ]
    }
   ],
   "source": [
    "import numpy as np\n",
    "eps = 1\n",
    "for k in [5, 10, 20, 30, 40, 50, 80, 90, 100]:\n",
    "    c = k /( (eps**-2) * np.log10(100))\n",
    "    print(c)"
   ]
  },
  {
   "cell_type": "code",
   "execution_count": 3,
   "metadata": {},
   "outputs": [
    {
     "data": {
      "text/plain": [
       "99.99"
      ]
     },
     "execution_count": 3,
     "metadata": {},
     "output_type": "execute_result"
    }
   ],
   "source": [
    "(eps**-2) * np.log10(1000) *33.33"
   ]
  },
  {
   "cell_type": "code",
   "execution_count": 4,
   "metadata": {},
   "outputs": [
    {
     "name": "stdout",
     "output_type": "stream",
     "text": [
      "5\n",
      "10\n",
      "20\n",
      "30\n",
      "40\n",
      "50\n",
      "80\n",
      "90\n",
      "100\n"
     ]
    }
   ],
   "source": [
    "import math\n",
    "c_s = [1.66,\n",
    "3.33,\n",
    "6.66,\n",
    "10.0,\n",
    "13.33,\n",
    "16.66,\n",
    "26.66,\n",
    "30.0,\n",
    "33.33]\n",
    "for c in c_s:\n",
    "    print(math.ceil(c* (eps**-2)*np.log10(1000)))"
   ]
  },
  {
   "cell_type": "code",
   "execution_count": 7,
   "metadata": {},
   "outputs": [
    {
     "data": {
      "text/plain": [
       "'k'"
      ]
     },
     "execution_count": 7,
     "metadata": {},
     "output_type": "execute_result"
    }
   ],
   "source": [
    "dim={'k':1, 'b':3}\n",
    "list(dim.keys())[0]"
   ]
  },
  {
   "cell_type": "code",
   "execution_count": 3,
   "metadata": {},
   "outputs": [],
   "source": [
    "import numpy as np\n",
    "t = np.array([1,2,3])\n"
   ]
  },
  {
   "cell_type": "code",
   "execution_count": 7,
   "metadata": {},
   "outputs": [
    {
     "data": {
      "text/plain": [
       "array([[1, 2, 3]])"
      ]
     },
     "execution_count": 7,
     "metadata": {},
     "output_type": "execute_result"
    }
   ],
   "source": [
    "t.reshape(1, t.shape[0])"
   ]
  },
  {
   "cell_type": "code",
   "execution_count": 8,
   "metadata": {},
   "outputs": [],
   "source": [
    "import time\n",
    "import numpy as np"
   ]
  },
  {
   "cell_type": "code",
   "execution_count": 17,
   "metadata": {},
   "outputs": [],
   "source": [
    "theta_est = np.random.randn(dim)"
   ]
  },
  {
   "cell_type": "code",
   "execution_count": 53,
   "metadata": {},
   "outputs": [
    {
     "data": {
      "text/plain": [
       "array([-1.01672537e+00,  9.28109996e-01, -1.24380326e+00,  1.19664029e+00,\n",
       "       -6.34216633e-01,  8.03981296e-01,  3.38763749e-01,  1.14127564e-01,\n",
       "       -1.04672285e+00, -1.65317555e-01,  6.17530290e-01,  3.12218839e-01,\n",
       "        6.95878809e-01, -9.73541647e-01,  4.93255959e-02, -3.27753570e-01,\n",
       "       -2.92159296e-01, -4.61558799e-01,  4.12339431e-01, -1.14742820e+00,\n",
       "       -2.88758410e-01,  1.42365402e+00, -1.60554952e-02, -3.81482921e-01,\n",
       "        5.53559450e-01,  1.09843663e-01, -4.42839887e-01, -3.56861942e-01,\n",
       "        1.32992459e-01, -1.87278585e+00, -8.34376588e-02,  4.22244614e-01,\n",
       "        6.06750898e-01, -4.87708034e-01, -6.65119329e-01, -6.79281759e-01,\n",
       "        1.62114145e+00, -4.83358769e-01, -1.74567292e+00, -5.51502680e-01,\n",
       "        6.02974096e-01, -1.65171593e-01, -2.29358880e-01, -7.68701623e-01,\n",
       "       -1.31130402e+00, -6.94513882e-01, -7.64579471e-01,  1.67745141e-01,\n",
       "       -1.90963197e+00,  5.90645207e-01, -1.48168346e-01, -5.30235568e-02,\n",
       "       -8.48516137e-02, -1.36324696e+00, -3.33435824e-01, -1.35127921e+00,\n",
       "        2.11552118e-01,  1.27716749e+00, -4.40408142e-01,  4.51699787e-04,\n",
       "       -2.11266428e-01,  2.19964426e+00, -9.70311592e-01,  1.42700221e+00,\n",
       "       -2.98060589e-02, -2.62409915e+00,  5.11871252e-01,  3.89448079e-01,\n",
       "        4.94294627e-01, -1.68690835e+00, -1.80230965e+00, -3.27112893e-01,\n",
       "        6.33839027e-01,  1.93964302e-01, -1.80955646e+00,  2.45480683e-01,\n",
       "       -2.84089649e-01, -1.97450526e+00, -6.55958838e-01,  7.89085780e-01,\n",
       "        7.91954170e-02, -2.13979847e+00,  3.44872865e-01, -7.23747116e-02,\n",
       "       -2.33493623e+00, -1.45792038e-01, -4.89152760e-02, -8.20259725e-01,\n",
       "        4.00312336e-02,  7.53624435e-01, -4.16358094e-01, -1.39463003e+00,\n",
       "        1.83367857e-01,  3.42451705e-01, -3.91722793e-01, -8.53286406e-01,\n",
       "       -7.66613052e-01,  5.20110673e-01, -5.62676034e-01,  4.26928895e-01])"
      ]
     },
     "execution_count": 53,
     "metadata": {},
     "output_type": "execute_result"
    }
   ],
   "source": [
    "dim = 100\n",
    "m = 50\n",
    "actions = 1000\n",
    "action_set = np.random.randn(actions, dim)\n",
    "\n",
    "a = action_set[0]\n",
    "\n",
    "lam = 0.1\n",
    "\n",
    "S = np.zeros((m, dim))\n",
    "a\n"
   ]
  },
  {
   "cell_type": "code",
   "execution_count": 54,
   "metadata": {},
   "outputs": [
    {
     "data": {
      "text/plain": [
       "(array([[ 1.01672537e+00+0.j, -9.28109996e-01+0.j,  1.24380326e+00+0.j,\n",
       "         ..., -5.20110673e-01+0.j,  5.62676034e-01+0.j,\n",
       "         -4.26928895e-01+0.j],\n",
       "        [-8.42769044e-09+0.j,  1.16912534e-08+0.j, -1.33490397e-08+0.j,\n",
       "         ...,  2.21036094e-09+0.j, -7.73812777e-10+0.j,\n",
       "         -1.39802644e-09+0.j],\n",
       "        [ 1.53790103e-09+0.j, -9.78269182e-10+0.j,  9.68241842e-09+0.j,\n",
       "         ...,  3.78250469e-10+0.j, -1.62548808e-10+0.j,\n",
       "          3.29590253e-10+0.j],\n",
       "        ...,\n",
       "        [-1.28606946e-12+0.j, -4.76510768e-12+0.j, -5.38019582e-11+0.j,\n",
       "         ...,  9.29255908e-11+0.j,  9.06524487e-11+0.j,\n",
       "         -1.17514921e-10+0.j],\n",
       "        [ 1.45004673e-12+0.j, -7.40281641e-13+0.j, -9.53928720e-12+0.j,\n",
       "         ...,  3.85625309e-11+0.j,  3.44528801e-11+0.j,\n",
       "         -3.38442878e-11+0.j],\n",
       "        [ 0.00000000e+00+0.j,  0.00000000e+00+0.j,  0.00000000e+00+0.j,\n",
       "         ...,  0.00000000e+00+0.j,  0.00000000e+00+0.j,\n",
       "          0.00000000e+00+0.j]]),\n",
       " array([[ 0.01172326+0.j,  0.        +0.j,  0.        +0.j, ...,\n",
       "          0.        +0.j,  0.        +0.j,  0.        +0.j],\n",
       "        [ 0.        +0.j, 10.        +0.j,  0.        +0.j, ...,\n",
       "          0.        +0.j,  0.        +0.j,  0.        +0.j],\n",
       "        [ 0.        +0.j,  0.        +0.j, 10.        +0.j, ...,\n",
       "          0.        +0.j,  0.        +0.j,  0.        +0.j],\n",
       "        ...,\n",
       "        [ 0.        +0.j,  0.        +0.j,  0.        +0.j, ...,\n",
       "         10.        +0.j,  0.        +0.j,  0.        +0.j],\n",
       "        [ 0.        +0.j,  0.        +0.j,  0.        +0.j, ...,\n",
       "          0.        +0.j, 10.        +0.j,  0.        +0.j],\n",
       "        [ 0.        +0.j,  0.        +0.j,  0.        +0.j, ...,\n",
       "          0.        +0.j,  0.        +0.j, 10.        +0.j]]))"
      ]
     },
     "execution_count": 54,
     "metadata": {},
     "output_type": "execute_result"
    }
   ],
   "source": [
    "s = (S.T @ S) + np.outer(a, a)\n",
    "rho_s, U = np.linalg.eig(s)\n",
    "\n",
    "# Order eigen vectors and value\n",
    "idx = rho_s.argsort()[::-1]   \n",
    "rho_s = rho_s[idx]\n",
    "U = U[:, idx]\n",
    "\n",
    "# Keep m first eigen vectors\n",
    "rho_s, U = rho_s[:m], U[:, :m]\n",
    "\n",
    "S = np.diag(np.sqrt(rho_s - rho_s[-1])) @ U.T\n",
    "H = np.diag(1/((rho_s - rho_s[-1]) + lam))\n",
    "S, H"
   ]
  },
  {
   "cell_type": "code",
   "execution_count": 55,
   "metadata": {},
   "outputs": [],
   "source": [
    "Vinv = (1/lam) * (np.identity(dim) - (S.T @ H @ S))"
   ]
  },
  {
   "cell_type": "code",
   "execution_count": null,
   "metadata": {},
   "outputs": [],
   "source": []
  },
  {
   "cell_type": "code",
   "execution_count": 56,
   "metadata": {},
   "outputs": [
    {
     "name": "stdout",
     "output_type": "stream",
     "text": [
      "0.2267172035799973 882\n"
     ]
    }
   ],
   "source": [
    "t = []\n",
    "for _ in range(100):\n",
    "    t0 = time.process_time()\n",
    "    ucb_max = float('-inf')\n",
    "    a_max = action_set[0]\n",
    "    selected_action_idx = 0\n",
    "    for idx, a in enumerate(action_set):\n",
    "        ucb = (a @ theta_est) + (np.sqrt(a @ (Vinv @ a)))\n",
    "        if ucb > ucb_max:\n",
    "            ucb_max = ucb\n",
    "            a_max = a\n",
    "            selected_action_idx = idx\n",
    "    t.append(time.process_time() - t0)\n",
    "    \n",
    "\n",
    "print(np.mean(t), selected_action_idx)"
   ]
  },
  {
   "cell_type": "code",
   "execution_count": 57,
   "metadata": {},
   "outputs": [
    {
     "data": {
      "text/plain": [
       "(100,)"
      ]
     },
     "execution_count": 57,
     "metadata": {},
     "output_type": "execute_result"
    }
   ],
   "source": [
    "(S.T @ (H @ (S @ a))).shape"
   ]
  },
  {
   "cell_type": "code",
   "execution_count": 59,
   "metadata": {},
   "outputs": [
    {
     "name": "stdout",
     "output_type": "stream",
     "text": [
      "0.4352331649799987 882\n"
     ]
    }
   ],
   "source": [
    "t = []\n",
    "for _ in range(100):\n",
    "    t0 = time.process_time()\n",
    "    ucb_max = float('-inf')\n",
    "    a_max = action_set[0]\n",
    "    selected_action_idx = 0\n",
    "    for idx, a in enumerate(action_set):\n",
    "        Vinv_a =  (1/lam) * (a - (S.T @ (H @ (S @ a))))\n",
    "        ucb = (a @ theta_est) + (np.sqrt(a @ Vinv_a))\n",
    "        if ucb > ucb_max:\n",
    "            ucb_max = ucb\n",
    "            a_max = a\n",
    "            selected_action_idx = idx\n",
    "    t.append(time.process_time() - t0)\n",
    "    \n",
    "\n",
    "print(np.mean(t), selected_action_idx)"
   ]
  },
  {
   "cell_type": "code",
   "execution_count": 2,
   "metadata": {},
   "outputs": [
    {
     "name": "stdout",
     "output_type": "stream",
     "text": [
      "[[-1.12960059 -1.81949712 -0.46646492]\n",
      " [-1.48408296  0.85466279  1.09787652]\n",
      " [-0.72358724 -0.2593099  -1.28564891]] [[0. 0. 0. 0.]\n",
      " [0. 0. 0. 0.]\n",
      " [0. 0. 0. 0.]\n",
      " [0. 0. 0. 0.]]\n"
     ]
    }
   ],
   "source": [
    "import numpy as np\n",
    "Z = np.random.randn(3, 3)\n",
    "H = np.zeros((4, 4))\n",
    "print(Z, H)"
   ]
  },
  {
   "cell_type": "code",
   "execution_count": 3,
   "metadata": {},
   "outputs": [
    {
     "name": "stdout",
     "output_type": "stream",
     "text": [
      "[[-1.12960059 -1.81949712 -0.46646492  0.        ]\n",
      " [-1.48408296  0.85466279  1.09787652  0.        ]\n",
      " [-0.72358724 -0.2593099  -1.28564891  0.        ]\n",
      " [ 0.          0.          0.          0.        ]]\n"
     ]
    }
   ],
   "source": [
    "H[:3, :3] = Z\n",
    "print(H)"
   ]
  },
  {
   "cell_type": "code",
   "execution_count": 4,
   "metadata": {},
   "outputs": [
    {
     "data": {
      "text/plain": [
       "array([[-1.12960059, -1.81949712, -0.46646492,  0.        ],\n",
       "       [-1.48408296,  0.85466279,  1.09787652,  0.        ],\n",
       "       [-0.72358724, -0.2593099 , -1.28564891,  0.        ],\n",
       "       [ 0.        ,  0.        ,  0.        ,  0.        ]])"
      ]
     },
     "execution_count": 4,
     "metadata": {},
     "output_type": "execute_result"
    }
   ],
   "source": [
    "Z[0][0] = 0\n",
    "H"
   ]
  },
  {
   "cell_type": "code",
   "execution_count": 7,
   "metadata": {},
   "outputs": [
    {
     "data": {
      "text/plain": [
       "array([[-1.12960059, -1.81949712, -0.46646492,  2.        ],\n",
       "       [-1.48408296,  0.85466279,  1.09787652,  2.        ],\n",
       "       [-0.72358724, -0.2593099 , -1.28564891,  2.        ],\n",
       "       [ 1.        ,  1.        ,  1.        ,  0.        ]])"
      ]
     },
     "execution_count": 7,
     "metadata": {},
     "output_type": "execute_result"
    }
   ],
   "source": [
    "row = np.array([1, 1, 1])\n",
    "column = np.array([2, 2, 2])\n",
    "dim = 4\n",
    "H[dim-1, :dim-1] = row\n",
    "H[:dim-1, dim-1] = column\n",
    "H"
   ]
  },
  {
   "cell_type": "code",
   "execution_count": 6,
   "metadata": {},
   "outputs": [
    {
     "data": {
      "text/plain": [
       "array([[-1.12960059, -1.81949712, -0.46646492,  0.        ],\n",
       "       [-1.48408296,  0.85466279,  1.09787652,  0.        ],\n",
       "       [-0.72358724, -0.2593099 , -1.28564891,  0.        ],\n",
       "       [ 0.        ,  0.        ,  0.        ,  0.        ]])"
      ]
     },
     "execution_count": 6,
     "metadata": {},
     "output_type": "execute_result"
    }
   ],
   "source": [
    "H"
   ]
  },
  {
   "cell_type": "markdown",
   "metadata": {},
   "source": [
    "### SQRT INV"
   ]
  },
  {
   "cell_type": "code",
   "execution_count": 33,
   "metadata": {},
   "outputs": [],
   "source": [
    "import  numpy as np\n",
    "dim = 4\n",
    "a = np.random.randn(dim)\n",
    "b = np.random.randn(dim)\n",
    "c = np.random.randn(dim)\n",
    "dim = np.random.randn(dim)\n",
    "e = np.random.randn(dim)\n",
    "f = np.zeros(dim)\n",
    "f[0] = 1\n",
    "\n",
    "X = []\n",
    "# X.append(a)\n",
    "# X.append(b)\n",
    "# X.append(c)\n",
    "# X.append(d)\n",
    "# X.append(e)\n",
    "# X.append(e)\n",
    "X.append(f)\n",
    "\n",
    "\n",
    "X = np.array(X)"
   ]
  },
  {
   "cell_type": "code",
   "execution_count": 34,
   "metadata": {},
   "outputs": [
    {
     "data": {
      "text/plain": [
       "array([[1., 0., 0., 0.]])"
      ]
     },
     "execution_count": 34,
     "metadata": {},
     "output_type": "execute_result"
    }
   ],
   "source": [
    "X[:,-2] = X[:,-1]\n",
    "X"
   ]
  },
  {
   "cell_type": "code",
   "execution_count": 35,
   "metadata": {},
   "outputs": [],
   "source": [
    "V = (X.T @ X) +  (np.identity(dim) * 0.1)"
   ]
  },
  {
   "cell_type": "code",
   "execution_count": 36,
   "metadata": {},
   "outputs": [],
   "source": [
    "import scipy\n",
    "Vinv = np.linalg.inv(V)\n",
    "Vsqrt = scipy.linalg.sqrtm(V)\n",
    "Vsqrtinv = scipy.linalg.sqrtm(Vinv)\n",
    "Vinvsqrt = np.linalg.inv(Vsqrt)\n"
   ]
  },
  {
   "cell_type": "code",
   "execution_count": 38,
   "metadata": {},
   "outputs": [
    {
     "data": {
      "text/plain": [
       "1"
      ]
     },
     "execution_count": 38,
     "metadata": {},
     "output_type": "execute_result"
    }
   ],
   "source": [
    "np.linalg.matrix_rank(X)"
   ]
  },
  {
   "cell_type": "markdown",
   "metadata": {},
   "source": [
    "### CHOLESKY INV"
   ]
  },
  {
   "cell_type": "code",
   "execution_count": 45,
   "metadata": {},
   "outputs": [
    {
     "data": {
      "text/plain": [
       "array([[ 2.242549  , -1.02285981, -0.02310375, -1.26635594],\n",
       "       [-1.02285981, 10.24215991,  0.98796845,  3.86249353],\n",
       "       [-0.02310375,  0.98796845,  1.38511977,  1.15322212],\n",
       "       [-1.26635594,  3.86249353,  1.15322212,  5.79078705]])"
      ]
     },
     "execution_count": 45,
     "metadata": {},
     "output_type": "execute_result"
    }
   ],
   "source": [
    "import  numpy as np\n",
    "dim = 4\n",
    "a = np.random.randn(dim)\n",
    "b = np.random.randn(dim)\n",
    "c = np.random.randn(dim)\n",
    "dim = np.random.randn(dim)\n",
    "e = np.random.randn(dim)\n",
    "f = np.zeros(dim)\n",
    "f[0] = 1\n",
    "\n",
    "X = []\n",
    "X.append(a)\n",
    "X.append(b)\n",
    "X.append(c)\n",
    "X.append(dim)\n",
    "X.append(e)\n",
    "X.append(e)\n",
    "X.append(f)\n",
    "\n",
    "\n",
    "X = np.array(X)\n",
    "V = (X.T @ X) +  (np.identity(dim) * 0.1)\n",
    "V"
   ]
  },
  {
   "cell_type": "code",
   "execution_count": 49,
   "metadata": {},
   "outputs": [],
   "source": [
    "import scipy\n",
    "Vinv = np.linalg.inv(V)\n",
    "Vcholesky = scipy.linalg.cholesky(V)\n",
    "Vcholeskyinv = scipy.linalg.cholesky(Vinv)\n",
    "Vinvcholesky = np.linalg.inv(Vcholesky)"
   ]
  },
  {
   "cell_type": "code",
   "execution_count": 53,
   "metadata": {},
   "outputs": [
    {
     "data": {
      "text/plain": [
       "(array([[ 0.72286394,  0.02100633, -0.1472965 ,  0.17340161],\n",
       "        [ 0.        ,  0.36215645, -0.06856668, -0.22790586],\n",
       "        [ 0.        ,  0.        ,  0.9302997 , -0.18526708],\n",
       "        [ 0.        ,  0.        ,  0.        ,  0.41555757]]),\n",
       " array([[ 0.66777327,  0.14588212, -0.03111684,  0.23315506],\n",
       "        [ 0.        ,  0.31983639, -0.0881306 , -0.14675229],\n",
       "        [ 0.        ,  0.        ,  0.88142449, -0.33903696],\n",
       "        [ 0.        ,  0.        ,  0.        ,  0.53760691]]))"
      ]
     },
     "execution_count": 53,
     "metadata": {},
     "output_type": "execute_result"
    }
   ],
   "source": [
    "Vcholeskyinv, Vinvcholesky"
   ]
  },
  {
   "cell_type": "markdown",
   "metadata": {},
   "source": [
    "_____"
   ]
  },
  {
   "cell_type": "code",
   "execution_count": 2,
   "metadata": {},
   "outputs": [
    {
     "data": {
      "text/plain": [
       "(3, 2)"
      ]
     },
     "execution_count": 2,
     "metadata": {},
     "output_type": "execute_result"
    }
   ],
   "source": [
    "import numpy as np\n",
    "ucb = np.random.randn(4,5)\n",
    "ucb[3][2] = 10000\n",
    "i,j = np.unravel_index(np.argmax(ucb, axis=None), ucb.shape)\n",
    "i,j"
   ]
  },
  {
   "cell_type": "code",
   "execution_count": 51,
   "metadata": {},
   "outputs": [
    {
     "data": {
      "text/plain": [
       "(5,\n",
       " array([[-0.06861522, -0.75571487, -0.30553074, -1.0689618 , -2.00524622],\n",
       "        [-0.09829647,  0.86242514, -0.97251226, -0.98679123, -2.16532835],\n",
       "        [-0.40701051, -1.66502748,  1.0563167 ,  0.18172999,  0.43941348],\n",
       "        [-1.0865708 , -0.29887404,  0.95845903, -1.42768643, -0.15081536],\n",
       "        [-0.85971286,  0.31917054,  0.84255607,  1.47318061,  0.62871546],\n",
       "        [-0.85971286,  0.31917054,  0.84255607,  1.47318061,  0.62871546],\n",
       "        [-0.40701051, -1.66502748,  1.0563167 ,  0.18172999,  0.43941348],\n",
       "        [ 1.        ,  0.        ,  0.        ,  0.        ,  0.        ],\n",
       "        [-0.09829647,  0.86242514, -0.97251226, -0.98679123, -2.16532835]]))"
      ]
     },
     "execution_count": 51,
     "metadata": {},
     "output_type": "execute_result"
    }
   ],
   "source": [
    "import  numpy as np\n",
    "dim = 5\n",
    "a = np.random.randn(dim)\n",
    "b = np.random.randn(dim)\n",
    "c = np.random.randn(dim)\n",
    "d = np.random.randn(dim)\n",
    "e = np.random.randn(dim)\n",
    "f = np.zeros(dim)\n",
    "f[0] = 1\n",
    "\n",
    "X = []\n",
    "X.append(a)\n",
    "X.append(b)\n",
    "X.append(c)\n",
    "X.append(d)\n",
    "X.append(e)\n",
    "X.append(e)\n",
    "X.append(c)\n",
    "X.append(f)\n",
    "X.append(b)\n",
    "\n",
    "\n",
    "\n",
    "X = np.array(X)\n",
    "V = (X.T @ X) +  (np.identity(dim) * 0.1)\n",
    "np.linalg.matrix_rank(X), X"
   ]
  },
  {
   "cell_type": "code",
   "execution_count": 52,
   "metadata": {},
   "outputs": [
    {
     "data": {
      "text/plain": [
       "array([[-0.08296412, -0.76413951, -0.32694858, -1.06822065, -1.99832097],\n",
       "       [-0.11207341,  0.85433632, -0.99307637, -0.98607963, -2.15867915],\n",
       "       [-0.39930432, -1.66050296,  1.06781933,  0.18133195,  0.43569422],\n",
       "       [-1.16931713, -0.3474567 ,  0.83494792, -1.42341245, -0.11087927],\n",
       "       [-0.91374968,  0.28744402,  0.76189814,  1.4759717 ,  0.6547954 ],\n",
       "       [-0.91374968,  0.28744402,  0.76189814,  1.4759717 ,  0.6547954 ],\n",
       "       [-0.39930432, -1.66050296,  1.06781933,  0.18133195,  0.43569422],\n",
       "       [ 0.73741689, -0.15416981, -0.39194405,  0.01356285,  0.12673122],\n",
       "       [-0.11207341,  0.85433632, -0.99307637, -0.98607963, -2.15867915]])"
      ]
     },
     "execution_count": 52,
     "metadata": {},
     "output_type": "execute_result"
    }
   ],
   "source": [
    "lam = 0\n",
    "m = 5\n",
    "# Compute SVD\n",
    "U, S, Vt = np.linalg.svd(X, full_matrices=False)\n",
    "# Get m-th singular value\n",
    "U[:,:m-1]@ np.diag(S[:m-1]) @ Vt[:m-1, :]\n"
   ]
  },
  {
   "cell_type": "code",
   "execution_count": 55,
   "metadata": {},
   "outputs": [
    {
     "data": {
      "text/plain": [
       "array([[ 0.40515859,  0.20067001,  0.39216407, -1.14486225, -1.31727105],\n",
       "       [-3.61943911,  3.00839119,  1.97782732,  1.10171802,  0.64215495],\n",
       "       [ 0.3970892 , -1.39417076, -0.29723673, -3.46403177,  8.40738774],\n",
       "       [ 0.        ,  0.        ,  0.        ,  0.        ,  0.        ],\n",
       "       [ 0.        ,  0.        ,  0.        ,  0.        ,  0.        ]])"
      ]
     },
     "execution_count": 55,
     "metadata": {},
     "output_type": "execute_result"
    }
   ],
   "source": [
    "x = np.array([1, 2, 5, 0, 0])\n",
    "diag = np.diag(x)\n",
    "V = np.random.randn(5, 5)\n",
    "diag @ V.T"
   ]
  },
  {
   "cell_type": "code",
   "execution_count": 57,
   "metadata": {},
   "outputs": [
    {
     "data": {
      "text/plain": [
       "array([[ 0.40515859,  0.20067001,  0.39216407, -1.14486225, -1.31727105],\n",
       "       [-3.61943911,  3.00839119,  1.97782732,  1.10171802,  0.64215495],\n",
       "       [ 0.3970892 , -1.39417076, -0.29723673, -3.46403177,  8.40738774]])"
      ]
     },
     "execution_count": 57,
     "metadata": {},
     "output_type": "execute_result"
    }
   ],
   "source": [
    "diag = np.diag(x[:3])\n",
    "diag @ V.T[:3]"
   ]
  },
  {
   "cell_type": "code",
   "execution_count": 10,
   "metadata": {},
   "outputs": [
    {
     "name": "stdout",
     "output_type": "stream",
     "text": [
      "[[-11.97652173   8.22461582  -9.2775551   -1.22217219 -10.34822319]\n",
      " [ -2.58305939  -1.546818     2.53295819   0.47332509  -0.5666732 ]]\n",
      "[[0.00241285 0.        ]\n",
      " [0.         0.04042143]]\n"
     ]
    }
   ],
   "source": [
    "\n",
    "lam = 0\n",
    "# Compute SVD\n",
    "U, S, Vt = np.linalg.svd(V, full_matrices=False)\n",
    "# Get m-th singular value²\n",
    "delta = S[m-1]**2\n",
    "# Add this value to lam\n",
    "lam += delta\n",
    "# Compute ̂Σ = √ (Σ² - δI)\n",
    "diff = np.diag(S**2) - (delta * np.identity(S.shape[0]))\n",
    "diff[diff < 0] = 0\n",
    "S_hat =  np.sqrt(diff)\n",
    "# Compute Z and remove empty rows (0 value rows)\n",
    "Z = (S_hat @ Vt)[:m-1]\n",
    "# Compute H using only the m-th top singular values\n",
    "l = S_hat[:m-1, :m-1]\n",
    "H = np.linalg.inv(l**2 + (lam * np.identity(l.shape[0])))\n",
    "print (Z)\n",
    "print (H)"
   ]
  },
  {
   "cell_type": "code",
   "execution_count": 34,
   "metadata": {},
   "outputs": [
    {
     "data": {
      "text/plain": [
       "0.01749027093115263"
      ]
     },
     "execution_count": 34,
     "metadata": {},
     "output_type": "execute_result"
    }
   ],
   "source": [
    "seed = 48\n",
    "rng = np.random.RandomState(seed)\n",
    "rng.rand()"
   ]
  },
  {
   "cell_type": "code",
   "execution_count": 26,
   "metadata": {},
   "outputs": [
    {
     "name": "stdout",
     "output_type": "stream",
     "text": [
      "[-0.99363132]\n",
      "[-1.06340081]\n",
      "[-0.63807592]\n",
      "[1.06158869]\n",
      "[-0.15740415]\n",
      "[1.09372848]\n",
      "[-2.07485402]\n",
      "[0.70063301]\n",
      "[1.67463863]\n",
      "[-0.39733411]\n"
     ]
    }
   ],
   "source": [
    "for _ in range (10):\n",
    " print(rng.randn(1))"
   ]
  },
  {
   "cell_type": "code",
   "execution_count": 35,
   "metadata": {},
   "outputs": [],
   "source": [
    "from datasets.load_data import *\n",
    "finite_set = True\n",
    "# Type Dataset : 'MNIST' or 'Random'\n",
    "dataset = 'MNIST'\n",
    "# Time limit (in sec)\n",
    "time_stop = 30000\n",
    "# Max iterations\n",
    "n = 2000\n",
    "# Number of loops (To approximate in expectation)\n",
    "n_loop = 20\n",
    "seeds = np.arange(n_loop)\n",
    "\n",
    "######################## Generate theta and action set ###########################\n",
    "#### Useful if dataset Random\n",
    "# Dimension\n",
    "dim = 2000\n",
    "# Number of actions\n",
    "m_actions = 100\n",
    "# Noise\n",
    "sigma = 0.1\n",
    "theta, action_set, m_actions, dim = load_dataset(dim, m_actions, name=dataset, finite_set=finite_set)\n"
   ]
  },
  {
   "cell_type": "code",
   "execution_count": 54,
   "metadata": {},
   "outputs": [
    {
     "data": {
      "text/plain": [
       "array([[ 2.65455758,  0.24743812,  0.76890712, -0.1098315 ],\n",
       "       [ 0.24743812,  0.02306434,  0.07167181, -0.01023768],\n",
       "       [ 0.76890712,  0.07167181,  0.22271815, -0.03181329],\n",
       "       [-0.1098315 , -0.01023768, -0.03181329,  0.00454424]])"
      ]
     },
     "execution_count": 54,
     "metadata": {},
     "output_type": "execute_result"
    }
   ],
   "source": [
    "a_t = np.random.randn(4)\n",
    "np.outer(a_t, a_t)"
   ]
  },
  {
   "cell_type": "code",
   "execution_count": 56,
   "metadata": {},
   "outputs": [
    {
     "data": {
      "text/plain": [
       "array([[ 2.65455758,  0.24743812,  0.76890712, -0.1098315 ],\n",
       "       [ 0.24743812,  0.02306434,  0.07167181, -0.01023768],\n",
       "       [ 0.76890712,  0.07167181,  0.22271815, -0.03181329],\n",
       "       [-0.1098315 , -0.01023768, -0.03181329,  0.00454424]])"
      ]
     },
     "execution_count": 56,
     "metadata": {},
     "output_type": "execute_result"
    }
   ],
   "source": [
    "a_t = a_t.reshape(-1, 1)\n",
    "\n",
    "a_t @ a_t.T"
   ]
  },
  {
   "cell_type": "code",
   "execution_count": 67,
   "metadata": {},
   "outputs": [
    {
     "data": {
      "text/plain": [
       "(array([[ 0.11651436,  0.97999391, -0.26550242, -0.19512796, -0.86718312],\n",
       "        [-0.53229245, -1.12939644,  0.68285161,  1.38990705, -0.77862293],\n",
       "        [ 0.16548949, -0.02695989,  1.65296827, -0.1572271 , -0.89784051],\n",
       "        [ 0.14000427,  0.4875325 ,  0.96676173, -0.22490722,  1.36512606],\n",
       "        [ 0.46433848,  0.32537148, -0.66848323,  1.42921894,  0.08091739]]),\n",
       " array([ 0.46433848,  0.32537148, -0.66848323,  1.42921894,  0.08091739]))"
      ]
     },
     "execution_count": 67,
     "metadata": {},
     "output_type": "execute_result"
    }
   ],
   "source": [
    "dim = 5\n",
    "S = np.random.randn(dim, dim)\n",
    "a = np.random.randn(dim)\n",
    "S[-1] = a\n",
    "S, a"
   ]
  },
  {
   "cell_type": "code",
   "execution_count": 68,
   "metadata": {},
   "outputs": [
    {
     "data": {
      "text/plain": [
       "array([[ 0.77511926,  1.08131262, -0.60631693,  0.50720305,  0.43110225],\n",
       "       [ 1.08131262,  2.68607237, -1.03964778, -0.93633686,  0.7719452 ],\n",
       "       [-0.60631693, -1.03964778,  5.09744986, -1.38723365, -0.5739788 ],\n",
       "       [ 0.50720305, -0.93633686, -1.38723365,  6.13055367, -0.84756634],\n",
       "       [ 0.43110225,  0.7719452 , -0.5739788 , -0.84756634,  4.04104221]])"
      ]
     },
     "execution_count": 68,
     "metadata": {},
     "output_type": "execute_result"
    }
   ],
   "source": [
    "S.T @ S + np.outer(a, a)"
   ]
  },
  {
   "cell_type": "code",
   "execution_count": 66,
   "metadata": {},
   "outputs": [
    {
     "data": {
      "text/plain": [
       "array([[ 1.02074026, -0.67815757,  0.70090608,  1.08310455,  3.14171147],\n",
       "       [-0.67815757,  1.48882375, -0.86860215,  0.70484591, -1.45111596],\n",
       "       [ 0.70090608, -0.86860215,  2.47909248,  0.64179317,  2.41154313],\n",
       "       [ 1.08310455,  0.70484591,  0.64179317,  3.21448872,  4.26884819],\n",
       "       [ 3.14171147, -1.45111596,  2.41154313,  4.26884819, 16.38529032]])"
      ]
     },
     "execution_count": 66,
     "metadata": {},
     "output_type": "execute_result"
    }
   ],
   "source": [
    "S.T @ S"
   ]
  },
  {
   "cell_type": "code",
   "execution_count": 97,
   "metadata": {},
   "outputs": [],
   "source": [
    "def fd_sketching(S, a, lam=0.1):\n",
    "    m2, d = S.shape \n",
    "    m = m2/2\n",
    "    s = (S.T @ S) + np.outer(a, a)\n",
    "    rho_s, U = np.linalg.eig(s)\n",
    "\n",
    "    # Order eigen vectors and value\n",
    "    idx = rho_s.argsort()[::-1]   \n",
    "    rho_s = rho_s[idx]\n",
    "    U = U[:, idx]\n",
    "\n",
    "    # Keep m first eigen vectors\n",
    "    rho = [m-1]\n",
    "    diff = rho_s - rho\n",
    "    diff[diff < 0] = 0\n",
    "    diff, U = diff[:m2], U[:, :m2]\n",
    "\n",
    "\n",
    "    S = np.diag(np.sqrt(diff)) @ U.T\n",
    "    H = np.diag(1/(diff + lam))\n",
    "    return S, H"
   ]
  },
  {
   "cell_type": "code",
   "execution_count": 108,
   "metadata": {},
   "outputs": [],
   "source": [
    "from utils.utils import *\n",
    "\n",
    "n = 9\n",
    "m = 2\n",
    "dim = 5\n",
    "lam = 0.1\n",
    "\n",
    "M = np.random.randn(n, dim)"
   ]
  },
  {
   "cell_type": "code",
   "execution_count": 103,
   "metadata": {},
   "outputs": [],
   "source": [
    "Z = np.random.randn(n, dim)\n",
    "a = np.random.randn(dim)"
   ]
  },
  {
   "cell_type": "code",
   "execution_count": 104,
   "metadata": {},
   "outputs": [
    {
     "data": {
      "text/plain": [
       "array([[ 8.02416627,  0.45275999, -2.43122506, -2.35089915, -0.20680144],\n",
       "       [ 0.45275999, 14.83852146, -4.99360332, -4.34959843, -2.54878587],\n",
       "       [-2.43122506, -4.99360332,  5.8218163 ,  2.44493813,  3.40852956],\n",
       "       [-2.35089915, -4.34959843,  2.44493813, 11.26723388,  4.57304698],\n",
       "       [-0.20680144, -2.54878587,  3.40852956,  4.57304698,  7.45176105]])"
      ]
     },
     "execution_count": 104,
     "metadata": {},
     "output_type": "execute_result"
    }
   ],
   "source": [
    "Z.T @ Z + np.outer(a,a)"
   ]
  },
  {
   "cell_type": "code",
   "execution_count": 107,
   "metadata": {},
   "outputs": [
    {
     "data": {
      "text/plain": [
       "array([[ 8.02416627,  0.45275999, -2.43122506, -2.35089915, -0.20680144],\n",
       "       [ 0.45275999, 14.83852146, -4.99360332, -4.34959843, -2.54878587],\n",
       "       [-2.43122506, -4.99360332,  5.8218163 ,  2.44493813,  3.40852956],\n",
       "       [-2.35089915, -4.34959843,  2.44493813, 11.26723388,  4.57304698],\n",
       "       [-0.20680144, -2.54878587,  3.40852956,  4.57304698,  7.45176105]])"
      ]
     },
     "execution_count": 107,
     "metadata": {},
     "output_type": "execute_result"
    }
   ],
   "source": [
    "Z = np.append(Z, a.reshape((1, -1)), axis=0)\n",
    "Z.T @ Z"
   ]
  },
  {
   "cell_type": "code",
   "execution_count": 117,
   "metadata": {},
   "outputs": [
    {
     "name": "stdout",
     "output_type": "stream",
     "text": [
      "_______\n",
      "[[10.          0.         -0.        ]\n",
      " [ 0.         10.         -0.        ]\n",
      " [-0.         -0.          0.12863661]]\n",
      "[[10.          0.          0.        ]\n",
      " [ 0.         10.          0.        ]\n",
      " [ 0.          0.          0.12863661]]\n",
      "_______\n",
      "[[6.38909626e-03 8.61704772e-04]\n",
      " [8.61704772e-04 1.15338278e+00]]\n",
      "[[0.07663904 0.0103364 ]\n",
      " [0.0103364  1.15466064]]\n",
      "_______\n",
      "[[ 0.00679532 -0.0079429  -0.01606145]\n",
      " [-0.0079429   1.34421686  0.3481214 ]\n",
      " [-0.01606145  0.3481214   0.63504649]]\n",
      "[[ 0.27088138 -0.31662741 -0.6402566 ]\n",
      " [-0.31662741  1.70503154  1.07772968]\n",
      " [-0.6402566   1.07772968  2.11039733]]\n",
      "_______\n",
      "[[0.00505151 0.00321557]\n",
      " [0.00321557 0.06321549]]\n",
      "[[0.23764438 0.15127395]\n",
      " [0.15127395 0.15746294]]\n",
      "_______\n",
      "[[ 0.00506613  0.00314801 -0.00207983]\n",
      " [ 0.00314801  0.06352766  0.00961007]\n",
      " [-0.00207983  0.00961007  0.29584836]]\n",
      "[[ 0.27497916  0.17086748 -0.11288855]\n",
      " [ 0.17086748  0.16774575 -0.05924463]\n",
      " [-0.11288855 -0.05924463  0.34133921]]\n",
      "_______\n",
      "[[ 0.00167197 -0.00147662]\n",
      " [-0.00147662  0.38631718]]\n",
      "[[ 0.06609976 -0.05837672]\n",
      " [-0.05837672  0.43656913]]\n"
     ]
    }
   ],
   "source": [
    "# Init Variables CBSCFD\n",
    "lam = 0.1\n",
    "Z = np.zeros((m, dim))\n",
    "H = (1/lam) * np.identity(m)\n",
    "\n",
    "for a_t in M:\n",
    "    # Copy old Z\n",
    "    Z_t_1 = Z.copy()\n",
    "    Z = np.append(Z, a_t.reshape((1, -1)), axis=0)\n",
    "\n",
    "    if (Z.shape[0] == 2 * m):\n",
    "        # Compute SVD\n",
    "        S, Vt = np.linalg.eig(Z.T @ Z)\n",
    "        # Order eigen vectors and value\n",
    "        idx = S.argsort()[::-1]   \n",
    "        S = S[idx]\n",
    "        U = U[:, idx]\n",
    "        # Get m-th singular value²\n",
    "        delta = S[m-1]\n",
    "        # Add this value to lam\n",
    "        # Compute ̂Σ = √ (Σ² - δI)\n",
    "        S, Vt = S[:m-1], Vt[:m-1, :]\n",
    "        diff = np.diag(S - delta) \n",
    "        S_hat =  np.sqrt(diff)\n",
    "        # Compute Z and remove empty rows (0 value rows)\n",
    "        Z = (S_hat @ Vt)\n",
    "        # Compute H using only the m-th top singular values\n",
    "        H = np.diag(1/(S**2 - delta + lam))\n",
    "    else:\n",
    "        dim = Z.shape[0]\n",
    "        H_tmp = np.zeros((dim, dim))\n",
    "        p = H @ (Z_t_1 @ a_t)\n",
    "        k = (a_t @ a_t) - (a_t.T @ (Z_t_1.T @ p)) + lam\n",
    "        row = - p.T /k \n",
    "        column = - p/k\n",
    "        H_tmp[:dim-1, :dim-1] = H + (np.outer(p, p)/k)\n",
    "        H_tmp[dim-1, :dim-1] = row\n",
    "        H_tmp[:dim-1, dim-1] = column\n",
    "        H_tmp[dim-1, dim-1] = 1/k\n",
    "        H = H_tmp\n",
    "        print('_______')\n",
    "        print(H)\n",
    "        print(np.linalg.inv((Z @ Z.T) + (lam*np.identity(Z.shape[0]))))\n"
   ]
  },
  {
   "cell_type": "code",
   "execution_count": 124,
   "metadata": {},
   "outputs": [],
   "source": [
    "m = 2\n",
    "dim = 6 \n",
    "Z = np.random.randn(2*m, dim)\n",
    "H = np.random.randn(2*m, 2*m)\n",
    "a = np.random.randn(dim)"
   ]
  },
  {
   "cell_type": "code",
   "execution_count": 125,
   "metadata": {},
   "outputs": [
    {
     "data": {
      "text/plain": [
       "2.09945460210868"
      ]
     },
     "execution_count": 125,
     "metadata": {},
     "output_type": "execute_result"
    }
   ],
   "source": [
    "alpha = 1\n",
    "Vinv_a = (1/alpha) * (a - (Z.T @ (H @ (Z @ a))))\n",
    "np.sqrt(a @ Vinv_a)"
   ]
  },
  {
   "cell_type": "code",
   "execution_count": 126,
   "metadata": {},
   "outputs": [
    {
     "data": {
      "text/plain": [
       "2.0994546021086795"
      ]
     },
     "execution_count": 126,
     "metadata": {},
     "output_type": "execute_result"
    }
   ],
   "source": [
    "Vinv = (1/alpha) * (np.identity(dim) - (Z.T @ (H @ (Z))))\n",
    "np.sqrt(a @ Vinv @a)"
   ]
  },
  {
   "cell_type": "code",
   "execution_count": 127,
   "metadata": {},
   "outputs": [
    {
     "data": {
      "text/plain": [
       "array([[ 0.23877457,  1.03518385, -1.35905942, -0.55424245],\n",
       "       [ 0.02168508, -0.4767126 ,  1.89035702,  0.25634997],\n",
       "       [ 0.73274301,  0.27933647,  1.32780629, -1.04705097]])"
      ]
     },
     "execution_count": 127,
     "metadata": {},
     "output_type": "execute_result"
    }
   ],
   "source": [
    "import numpy as np\n",
    "\n",
    "M=np.random.randn(3, 4)\n",
    "M"
   ]
  },
  {
   "cell_type": "code",
   "execution_count": 131,
   "metadata": {},
   "outputs": [],
   "source": [
    "M = M[:, ::-1]"
   ]
  },
  {
   "cell_type": "code",
   "execution_count": 133,
   "metadata": {},
   "outputs": [
    {
     "data": {
      "text/plain": [
       "array([ 0.23877457,  1.03518385, -1.35905942, -0.55424245])"
      ]
     },
     "execution_count": 133,
     "metadata": {},
     "output_type": "execute_result"
    }
   ],
   "source": [
    "M[0][::-1]"
   ]
  },
  {
   "cell_type": "code",
   "execution_count": 1,
   "metadata": {},
   "outputs": [],
   "source": [
    "import numpy as np\n",
    "from utils.utils import *\n",
    "import time\n",
    "dim = 2000\n",
    "size = 1000\n",
    "m = 10\n",
    "m_fjlt = 1000\n",
    "action_set = np.random.randn(size, m_fjlt)\n",
    "# action_set_proj = np.random.randn(size, m_fjlt)\n",
    "\n",
    "theta_est = np.random.randn(m_fjlt)\n",
    "# theta_est_proj = np.random.randn(m_fjlt)\n",
    "\n",
    "Z = np.random.randn(m, m_fjlt)\n",
    "H = np.random.randn(m, m)\n"
   ]
  },
  {
   "cell_type": "code",
   "execution_count": 4,
   "metadata": {},
   "outputs": [
    {
     "name": "stderr",
     "output_type": "stream",
     "text": [
      "<timed exec>:4: RuntimeWarning: invalid value encountered in sqrt\n"
     ]
    },
    {
     "name": "stdout",
     "output_type": "stream",
     "text": [
      "1.041634461000001\n",
      "CPU times: user 262 ms, sys: 782 ms, total: 1.04 s\n",
      "Wall time: 214 ms\n"
     ]
    }
   ],
   "source": [
    "%%time\n",
    "t0 = time.process_time()\n",
    "for a in action_set:\n",
    "    Vinv_a = Z.T @ (H @ (Z @ a))\n",
    "    ucb = (a @ theta_est) + (np.sqrt(a @ Vinv_a))\n",
    "print(time.process_time() - t0)"
   ]
  },
  {
   "cell_type": "code",
   "execution_count": 6,
   "metadata": {},
   "outputs": [
    {
     "name": "stdout",
     "output_type": "stream",
     "text": [
      "0.5836985219999997\n"
     ]
    }
   ],
   "source": [
    "t0 = time.process_time()\n",
    "\n",
    "ZZ = Z @ Z.T\n",
    "Vinvsqrt = Z.T @ ZZ @ Z \n",
    "ext = extrema(Vinvsqrt, 1)\n",
    "# Compute UCB for each action\n",
    "ucb = action_set @ (ext + theta_est).T\n",
    "# Get the action with highest UCB\n",
    "selected_action_idx, _ = np.unravel_index(np.argmax(ucb, axis=None), ucb.shape)\n",
    "\n",
    "\n",
    "print(time.process_time() - t0)"
   ]
  },
  {
   "cell_type": "code",
   "execution_count": null,
   "metadata": {},
   "outputs": [],
   "source": [
    "import  numpy as np\n",
    "dim = 5\n",
    "a = np.random.randn(dim)\n",
    "b = np.random.randn(dim)\n",
    "c = np.random.randn(dim)\n",
    "dim = np.random.randn(dim)\n",
    "e = np.random.randn(dim)\n",
    "f = np.zeros(dim)\n",
    "f[0] = 1\n",
    "\n",
    "X = []\n",
    "X.append(a)\n",
    "X.append(b)\n",
    "X.append(c)\n",
    "X.append(dim)\n",
    "X.append(e)\n",
    "X.append(e)\n",
    "X.append(f)\n",
    "\n",
    "\n",
    "X = np.array(X)\n",
    "V = (X.T @ X) +  (np.identity(dim) * 0.1)\n"
   ]
  },
  {
   "cell_type": "code",
   "execution_count": 43,
   "metadata": {},
   "outputs": [],
   "source": [
    "import  numpy as np\n",
    "\n",
    "m=3\n",
    "dim=7\n",
    "Z = np.zeros((m, dim))\n",
    "alpha=0.1\n",
    "H = (1/0.1) * np.identity(m)"
   ]
  },
  {
   "cell_type": "code",
   "execution_count": 48,
   "metadata": {},
   "outputs": [
    {
     "data": {
      "text/plain": [
       "array([[ 0.06933246, -0.0078577 ,  0.01012588,  0.00535063],\n",
       "       [-0.0078577 ,  0.24822207, -0.04038567, -0.00966968],\n",
       "       [ 0.01012588, -0.04038567,  0.06403593, -0.02220223],\n",
       "       [ 0.00535063, -0.00966968, -0.02220223,  0.15024254]])"
      ]
     },
     "execution_count": 48,
     "metadata": {},
     "output_type": "execute_result"
    }
   ],
   "source": [
    "# Action recommended \n",
    "\n",
    "a_t = np.random.randn(dim)\n",
    "# Copy old Z\n",
    "Z_t_1 = Z.copy()\n",
    "Z = np.append(Z, a_t.reshape((1, -1)), axis=0)\n",
    "\n",
    "if (Z.shape[0] == 2 * m):\n",
    "    # Compute SVD\n",
    "    _, S, Vt = np.linalg.svd(Z, full_matrices=False)\n",
    "    # Get m-th singular value²\n",
    "    delta = S[m-1]**2\n",
    "    # Add this value to alpha\n",
    "    alpha += delta\n",
    "    # Compute ̂Σ = √ (Σ² - δI)\n",
    "    S, Vt = S[:m-1], Vt[:m-1, :]\n",
    "    diff = np.diag(S**2 - delta) \n",
    "    S_hat =  np.sqrt(diff)\n",
    "    # Compute Z and remove empty rows (0 value rows)\n",
    "    Z = (S_hat @ Vt)\n",
    "    # Compute H using only the m-th top singular values\n",
    "    H = np.diag(1/(S**2 - delta + alpha))\n",
    "else:\n",
    "    dim = Z.shape[0]\n",
    "    H_tmp = np.zeros((dim, dim))\n",
    "    p = H @ (Z_t_1 @ a_t)\n",
    "    k = (a_t @ a_t) - (a_t.T @ (Z_t_1.T @ p)) + alpha\n",
    "    row = - p.T /k \n",
    "    column = - p/k\n",
    "    H_tmp[:dim-1, :dim-1] = H + (np.outer(p, p)/k)\n",
    "    H_tmp[dim-1, :dim-1] = row\n",
    "    H_tmp[:dim-1, dim-1] = column\n",
    "    H_tmp[dim-1, dim-1] = 1/k\n",
    "    H = H_tmp\n",
    "H"
   ]
  },
  {
   "cell_type": "code",
   "execution_count": 166,
   "metadata": {},
   "outputs": [],
   "source": [
    "import numpy as np\n",
    "from scipy.linalg import hadamard\n",
    "\n",
    "import math\n",
    "seed = 48\n",
    "rng = np.random.RandomState(seed)\n",
    "actions = 10\n",
    "d = 3000\n",
    "action_set = rng.randn(actions, d)"
   ]
  },
  {
   "cell_type": "code",
   "execution_count": 170,
   "metadata": {},
   "outputs": [],
   "source": [
    "\n",
    "c1=1\n",
    "c=6\n",
    "p=2\n",
    "eps=1\n",
    "n=actions\n",
    "original_dim = d\n",
    "power = np.log2(original_dim)\n",
    "dim = original_dim if power == int(power) else 2**(int(power)+1)\n",
    "actions = action_set.shape[0] \n",
    "\n",
    "k = math.ceil(c * eps**(-2) * np.log10(n))\n",
    "\n",
    "# Generate P\n",
    "q = min(1, (c1 * (eps**(p-2) ) * (np.log10(n)**p))/dim)\n",
    "\n",
    "P = np.zeros((k, dim))\n",
    "probabilities = rng.random((k, dim))\n",
    "n_samples = len(probabilities[probabilities <= q])\n",
    "P[probabilities <= q] = rng.normal(0, np.sqrt(1 / q), size = n_samples)\n",
    "\n",
    "H = hadamard(dim) * (1./np.sqrt(dim))\n",
    "D = np.diag(rng.choice([-1, 1], p=[0.5, 0.5], size=dim))\n",
    "\n",
    "phi = (1 /np.sqrt(k)) * P @ H @ D\n"
   ]
  },
  {
   "cell_type": "code",
   "execution_count": 171,
   "metadata": {},
   "outputs": [
    {
     "data": {
      "text/plain": [
       "array([46.65265281, 74.38763892,  0.        ,  0.        , 26.70686357,\n",
       "       -9.51148791])"
      ]
     },
     "execution_count": 171,
     "metadata": {},
     "output_type": "execute_result"
    }
   ],
   "source": [
    "action_set_proj = np.zeros((action_set.shape[0], dim))\n",
    "action_set_proj[:action_set.shape[0], :action_set.shape[1]] = action_set\n",
    "action_set_proj[0] @ phi.T"
   ]
  },
  {
   "cell_type": "code",
   "execution_count": 172,
   "metadata": {},
   "outputs": [
    {
     "data": {
      "text/plain": [
       "array([-16.46183202,   0.        ,   0.        ,   0.        ,\n",
       "        26.70686357,   0.        ])"
      ]
     },
     "execution_count": 172,
     "metadata": {},
     "output_type": "execute_result"
    }
   ],
   "source": [
    "P = P[:, :d]\n",
    "H = H[:d, :d]\n",
    "D = D[:d, :d]\n",
    "\n",
    "phi = (1 /np.sqrt(k)) * P @ H @ D\n",
    "action_set[0] @ phi.T\n"
   ]
  },
  {
   "cell_type": "code",
   "execution_count": 35,
   "metadata": {},
   "outputs": [
    {
     "name": "stdout",
     "output_type": "stream",
     "text": [
      "___________m=10___________\n",
      "matmul:  0.004749576760002128\n",
      "for loop:  0.01550275514400073\n",
      "___________m=100___________\n",
      "matmul:  0.01023673523599814\n",
      "for loop:  0.08394705850999662\n",
      "___________m=1000___________\n",
      "matmul:  0.06265333659000362\n",
      "for loop:  0.8524883306760048\n",
      "___________m=10000___________\n",
      "matmul:  0.6758879504280053\n",
      "for loop:  7.946704868900025\n"
     ]
    }
   ],
   "source": [
    "import numpy as np\n",
    "import time\n",
    "m=10\n",
    "p=2000\n",
    "n=200\n",
    "for m in [10, 100, 1000, 10000]:\n",
    "    print(f'___________m={m}___________')\n",
    "    times = []\n",
    "    A = np.random.random((m, p))\n",
    "    B = np.random.random((p, n))\n",
    "    for _ in range(500):\n",
    "        t0 = time.process_time()\n",
    "        C = A @ B\n",
    "        times.append(time.process_time()-t0)\n",
    "    print('matmul: ', np.mean(times))\n",
    "\n",
    "    ####################################################\n",
    "\n",
    "    times = []\n",
    "    C = np.zeros((m,n))\n",
    "    for _ in range(500):\n",
    "        t0 = time.process_time()\n",
    "        for i, vec in enumerate(A):\n",
    "            C[i] = vec @ B\n",
    "        times.append(time.process_time()-t0)\n",
    "    print('for loop: ', np.mean(times))"
   ]
  },
  {
   "cell_type": "code",
   "execution_count": 36,
   "metadata": {},
   "outputs": [
    {
     "name": "stdout",
     "output_type": "stream",
     "text": [
      "m=10 ---x1000---> 10000: \n",
      "-- matmul: 142.5531914893617 \n",
      "-- forloop:  512.258064516129\n"
     ]
    }
   ],
   "source": [
    "print('m=10 ---x1000---> 10000: \\n-- matmul:', 0.67/0.0047, '\\n-- forloop: ', 7.94/0.0155)"
   ]
  },
  {
   "cell_type": "code",
   "execution_count": 37,
   "metadata": {},
   "outputs": [
    {
     "name": "stdout",
     "output_type": "stream",
     "text": [
      "___________m=1000___________\n",
      "matmul:  0.06450076563397306\n",
      "___________m=10000___________\n",
      "matmul:  0.6229448347039742\n",
      "___________m=100000___________\n",
      "matmul:  6.327140747247979\n"
     ]
    }
   ],
   "source": [
    "import numpy as np\n",
    "import time\n",
    "m=10\n",
    "p=2000\n",
    "n=200\n",
    "for m in [1000, 10000, 100000]:\n",
    "    print(f'___________m={m}___________')\n",
    "    times = []\n",
    "    A = np.random.random((m, p))\n",
    "    B = np.random.random((p, n))\n",
    "    for _ in range(500):\n",
    "        t0 = time.process_time()\n",
    "        C = A @ B\n",
    "        times.append(time.process_time()-t0)\n",
    "    print('matmul: ', np.mean(times))\n"
   ]
  },
  {
   "cell_type": "code",
   "execution_count": 1,
   "metadata": {},
   "outputs": [
    {
     "name": "stdout",
     "output_type": "stream",
     "text": [
      "160128\n"
     ]
    }
   ],
   "source": [
    "import sys\n",
    "import numpy as np\n",
    "import time\n",
    "m=10\n",
    "p=2000\n",
    "n=200\n",
    "\n",
    "A = np.random.random((m, p))\n",
    "print(sys.getsizeof(A))\n"
   ]
  },
  {
   "cell_type": "code",
   "execution_count": 12,
   "metadata": {},
   "outputs": [
    {
     "data": {
      "text/plain": [
       "Text(0.5, 1.0, 'CPU time - sqrtm')"
      ]
     },
     "execution_count": 12,
     "metadata": {},
     "output_type": "execute_result"
    },
    {
     "data": {
      "image/png": "[encoded data removed]",
      "text/plain": [
       "<Figure size 640x480 with 1 Axes>"
      ]
     },
     "metadata": {},
     "output_type": "display_data"
    }
   ],
   "source": [
    "import numpy as np\n",
    "import matplotlib.pyplot as plt\n",
    "import scipy\n",
    "import time\n",
    "\n",
    "d_s = [10, 20, 30, 40, 50, 100, 200, 300, 400, 500, 600, 700, 800, 900, 1000, 2000, 3000,4000, 5000]\n",
    "times = []\n",
    "for d in d_s:\n",
    "    times_it = []\n",
    "    for _ in range(10):\n",
    "        X = np.random.randn(10, d)\n",
    "        V = (X.T @ X) + (np.identity(d) * 0.1)\n",
    "        t0 = time.process_time()\n",
    "        sqrt = scipy.linalg.sqrtm(V)\n",
    "        times_it.append(time.process_time()-t0)\n",
    "    times.append(np.mean(times_it))\n",
    "\n",
    "\n",
    "plt.plot(d_s, times)\n",
    "plt.xlabel('d')\n",
    "plt.ylabel('Time (sec)')\n",
    "plt.title('CPU time - sqrtm')\n"
   ]
  },
  {
   "cell_type": "code",
   "execution_count": 8,
   "metadata": {},
   "outputs": [
    {
     "data": {
      "text/plain": [
       "(array([[1.]]),\n",
       " array([[-0.54097567, -0.48877576, -0.94097848,  0.7380959 ],\n",
       "        [-1.18202439, -1.24372025, -1.79622719, -0.75809178],\n",
       "        [-0.50525825, -0.57054877,  0.13973554,  0.47117411]]))"
      ]
     },
     "execution_count": 8,
     "metadata": {},
     "output_type": "execute_result"
    }
   ],
   "source": [
    "import numpy as np\n",
    "\n",
    "i = np.identity(1)\n",
    "p = np.random.randn(3, 4)\n",
    "i, p"
   ]
  },
  {
   "cell_type": "code",
   "execution_count": 9,
   "metadata": {},
   "outputs": [
    {
     "data": {
      "text/plain": [
       "(array([[ 1.        ,  0.        ,  0.        ,  0.        ,  0.        ],\n",
       "        [ 0.        , -0.54097567, -0.48877576, -0.94097848,  0.7380959 ],\n",
       "        [ 0.        , -1.18202439, -1.24372025, -1.79622719, -0.75809178],\n",
       "        [ 0.        , -0.50525825, -0.57054877,  0.13973554,  0.47117411]]),\n",
       " (4, 5))"
      ]
     },
     "execution_count": 9,
     "metadata": {},
     "output_type": "execute_result"
    }
   ],
   "source": [
    "from scipy.linalg import block_diag\n",
    "\n",
    "block_diag(i,p),block_diag(i,p).shape "
   ]
  },
  {
   "cell_type": "markdown",
   "metadata": {},
   "source": [
    "### Stockage in Bytes"
   ]
  },
  {
   "cell_type": "code",
   "execution_count": 62,
   "metadata": {},
   "outputs": [
    {
     "name": "stdout",
     "output_type": "stream",
     "text": [
      "FJLT:  100800 Bytes\n",
      "CBSCFD:  288800 Bytes\n",
      "FJLT > CBSCFD:  False\n"
     ]
    }
   ],
   "source": [
    "actions=100\n",
    "d=3000\n",
    "m=10\n",
    "k=50\n",
    "fjlt = (8 * ((actions * (2*k)) + (2*k) + k**2))\n",
    "print('FJLT: ', fjlt, 'Bytes')\n",
    "\n",
    "cbscfd = (8 * ((m*d) + m**2 + 2*d))\n",
    "print('CBSCFD: ', cbscfd, 'Bytes')\n",
    "\n",
    "print('FJLT > CBSCFD: ', fjlt > cbscfd)"
   ]
  },
  {
   "cell_type": "markdown",
   "metadata": {},
   "source": [
    "### Rewards distribution"
   ]
  },
  {
   "cell_type": "code",
   "execution_count": 10,
   "metadata": {},
   "outputs": [
    {
     "name": "stdout",
     "output_type": "stream",
     "text": [
      "Positive rewards: 8\n"
     ]
    },
    {
     "data": {
      "image/png": "[encoded data removed]",
      "text/plain": [
       "<Figure size 640x480 with 1 Axes>"
      ]
     },
     "metadata": {},
     "output_type": "display_data"
    }
   ],
   "source": [
    "import numpy as np\n",
    "import matplotlib.pyplot as plt\n",
    "\n",
    "seed = 12\n",
    "rng = np.random.RandomState(seed)\n",
    "def generate_theta(d, rng):\n",
    "    theta = rng.randn(d)\n",
    "    theta /= np.linalg.norm(theta, 2)\n",
    "    return theta\n",
    "def generate_action_set(m, d, rng):\n",
    "    action_set = rng.randn(m, d) + 1\n",
    "    action_set /= np.linalg.norm(action_set, 2, axis=1)[:, None]\n",
    "    return action_set\n",
    "\n",
    "d=3000\n",
    "m=100\n",
    "\n",
    "theta = generate_theta(d, rng)\n",
    "action_set = generate_action_set(m, d, rng)\n",
    "\n",
    "plt.hist(action_set @ theta,)\n",
    "print(f'Positive rewards: {sum(action_set @ theta>0)}')"
   ]
  },
  {
   "cell_type": "code",
   "execution_count": 2,
   "metadata": {},
   "outputs": [
    {
     "data": {
      "text/plain": [
       "array([[1, 2, 3, 4, 4, 4, 4],\n",
       "       [1, 2, 3, 3, 3, 3, 3],\n",
       "       [1, 2, 3, 4, 5, 6, 7],\n",
       "       [1, 2, 3, 4, 4, 4, 4],\n",
       "       [1, 1, 1, 1, 1, 1, 1],\n",
       "       [1, 2, 3, 4, 4, 4, 4]])"
      ]
     },
     "execution_count": 2,
     "metadata": {},
     "output_type": "execute_result"
    }
   ],
   "source": [
    "import numpy as np\n",
    "\n",
    "a = np.array([\n",
    "[1,      1,      1,    0.5, np.nan, np.nan, np.nan],\n",
    "[1,      1,      1, np.nan, np.nan, np.nan, np.nan],\n",
    "[1,      1,      1,    0.5,   0.25,  0.125,  0.075],\n",
    "[1,      1,      1,   0.25, np.nan, np.nan, np.nan],\n",
    "[1, np.nan, np.nan, np.nan, np.nan, np.nan, np.nan],\n",
    "[1,      1,    0.5,    0.5, np.nan, np.nan, np.nan]\n",
    "])\n"
   ]
  },
  {
   "cell_type": "code",
   "execution_count": 8,
   "metadata": {},
   "outputs": [
    {
     "data": {
      "text/plain": [
       "array([3, 2, 6, 3, 0, 3])"
      ]
     },
     "execution_count": 8,
     "metadata": {},
     "output_type": "execute_result"
    }
   ],
   "source": [
    "np.sum((~np.isnan(a)), axis=1)-1"
   ]
  },
  {
   "cell_type": "code",
   "execution_count": 17,
   "metadata": {},
   "outputs": [
    {
     "data": {
      "text/plain": [
       "Index(['x', 'y', 'model'], dtype='object')"
      ]
     },
     "execution_count": 17,
     "metadata": {},
     "output_type": "execute_result"
    }
   ],
   "source": [
    "import pandas as pd\n",
    "\n",
    "d = {'LinREL':{'x':0, 'y':0}, 'CB':{'x':1, 'y':0},}\n",
    "df = pd.DataFrame.from_dict(d, orient='index')\n",
    "df['model'] = df.index\n",
    "df.columns"
   ]
  },
  {
   "cell_type": "code",
   "execution_count": 1,
   "metadata": {},
   "outputs": [
    {
     "data": {
      "text/plain": [
       "(100, 5)"
      ]
     },
     "execution_count": 1,
     "metadata": {},
     "output_type": "execute_result"
    }
   ],
   "source": [
    "from sklearn.decomposition import TruncatedSVD\n",
    "from scipy.sparse import csr_matrix\n",
    "import numpy as np\n",
    "np.random.seed(0)\n",
    "X_dense = np.random.rand(100, 100)\n",
    "X_dense[:, 2 * np.arange(50)] = 0\n",
    "X = csr_matrix(X_dense)\n",
    "svd = TruncatedSVD(n_components=5, n_iter=7, random_state=42)\n",
    "svd.fit_transform(X).shape\n",
    "# print(svd.explained_variance_ratio_)\n",
    "# print(svd.explained_variance_ratio_.sum())\n",
    "# print(svd.singular_values_)"
   ]
  },
  {
   "cell_type": "code",
   "execution_count": 41,
   "metadata": {},
   "outputs": [
    {
     "data": {
      "text/plain": [
       "0.0201506203667054"
      ]
     },
     "execution_count": 41,
     "metadata": {},
     "output_type": "execute_result"
    }
   ],
   "source": [
    "n = 3000\n",
    "eps = 1\n",
    "p = 2\n",
    "d =  3000\n",
    "c1 = 5\n",
    "P = None\n",
    "q = min(1, (c1 * (eps**(p-2) ) * (np.log10(n)**p))/d)\n",
    "q"
   ]
  },
  {
   "cell_type": "code",
   "execution_count": 38,
   "metadata": {},
   "outputs": [
    {
     "name": "stdout",
     "output_type": "stream",
     "text": [
      "0.4363774402289179\n",
      "[array([3, 0, 2]), array([2]), array([1, 0, 4, 2]), array([3, 1]), array([3, 4, 0, 2])]\n",
      "[3 0 2 2 1 0 4 2 3 1 3 4 0 2]\n",
      "14 (14,)\n",
      "(14,)\n"
     ]
    },
    {
     "data": {
      "text/plain": [
       "array([[-1.95079891,  0.        , -1.29104661,  0.43021055,  0.        ],\n",
       "       [ 0.        ,  0.        ,  1.63860425,  0.        ,  0.        ],\n",
       "       [ 0.18894739,  1.65714222, -0.12825695,  0.        ,  0.73741505],\n",
       "       [ 0.        , -0.2052985 ,  0.        , -0.9074925 ,  0.        ],\n",
       "       [-0.33048393,  0.        ,  0.31144102,  2.31375125, -0.18677526]])"
      ]
     },
     "execution_count": 38,
     "metadata": {},
     "output_type": "execute_result"
    }
   ],
   "source": [
    "import scipy.sparse as sp\n",
    "\n",
    "n = 30\n",
    "eps = 1\n",
    "p = 2\n",
    "d =  5\n",
    "c1 = 1\n",
    "P = None\n",
    "q = min(1, (c1 * (eps**(p-2) ) * (np.log10(n)**p))/d)\n",
    "print(q)\n",
    "k = 5\n",
    "if q == 1:\n",
    "    # skip index generation if totally dense\n",
    "    P =  np.random.normal(0, np.sqrt(1 / q), size = (k, d))\n",
    "\n",
    "else:\n",
    "    # Generate location of non zero elements\n",
    "    indices = []\n",
    "    offset = 0\n",
    "    indptr = [offset]\n",
    "    for _ in range(k):\n",
    "        # find the indices of the non-zero components for row i\n",
    "        n_nonzero_i = np.random.binomial(d, q)\n",
    "        indices_i = np.random.choice(d, n_nonzero_i, replace=False)\n",
    "        indices.append(indices_i)\n",
    "        offset += n_nonzero_i\n",
    "        indptr.append(offset)\n",
    "    print(indices)\n",
    "    indices = np.concatenate(indices)\n",
    "    print(indices)\n",
    "\n",
    "    # Draw from normal distribution of mean 0 and var q⁻1\n",
    "    print(np.size(indices), indices.shape)\n",
    "    data = np.random.normal(0, np.sqrt(1 / q), size=np.size(indices))\n",
    "    print(data.shape)\n",
    "\n",
    "    # build the CSR structure by concatenating the rows\n",
    "    components = sp.csr_matrix(\n",
    "        (data, indices, indptr), shape=(k, d)\n",
    "    )\n",
    "\n",
    "    P = (components).toarray()\n",
    "P"
   ]
  },
  {
   "cell_type": "code",
   "execution_count": 32,
   "metadata": {},
   "outputs": [
    {
     "data": {
      "text/plain": [
       "array([[ 0.        ,  0.        ,  0.55195847, -0.94236344,  0.        ],\n",
       "       [-0.66139221,  0.        ,  1.74075814, -1.22021301,  0.7508346 ],\n",
       "       [ 0.        ,  0.        ,  0.        ,  0.        ,  0.        ],\n",
       "       [ 0.        ,  2.14996856, -0.45970102,  0.30139199,  0.74089876],\n",
       "       [-0.89229556,  1.23194388,  0.        ,  0.        ,  0.        ]])"
      ]
     },
     "execution_count": 32,
     "metadata": {},
     "output_type": "execute_result"
    }
   ],
   "source": [
    "P = np.zeros((k, d))\n",
    "probabilities = np.random.random((k, d))\n",
    "n_samples = len(probabilities[probabilities <= q])\n",
    "P[probabilities <= q] = np.random.normal(0, np.sqrt(1 / q), size = n_samples)\n",
    "P"
   ]
  },
  {
   "cell_type": "code",
   "execution_count": 10,
   "metadata": {},
   "outputs": [
    {
     "data": {
      "text/plain": [
       "array([[ 1,  0,  0,  0,  0],\n",
       "       [ 0, -1,  0,  0,  0],\n",
       "       [ 0,  0,  1,  0,  0],\n",
       "       [ 0,  0,  0, -1,  0],\n",
       "       [ 0,  0,  0,  0,  1]])"
      ]
     },
     "execution_count": 10,
     "metadata": {},
     "output_type": "execute_result"
    }
   ],
   "source": [
    "import numpy as np\n",
    "d = 5\n",
    "diag = np.random.choice([-1, 1], p=[0.5, 0.5], size=d)\n",
    "D = np.diag(diag)\n",
    "D"
   ]
  },
  {
   "cell_type": "code",
   "execution_count": 11,
   "metadata": {},
   "outputs": [
    {
     "data": {
      "text/plain": [
       "array([[ 2.10695542, -1.56549967, -1.5256256 , -1.25139208,  0.24167997],\n",
       "       [ 0.52162423, -0.88300273, -0.6619922 , -1.12960371, -0.73715075],\n",
       "       [ 1.67174455,  0.52109014, -0.93951383,  0.495699  , -0.69448001],\n",
       "       [ 0.355042  ,  1.05071474, -0.72742885, -0.3923006 , -0.27698747],\n",
       "       [ 0.03856578,  0.3858428 , -0.33702465,  0.6068946 , -0.21870612]])"
      ]
     },
     "execution_count": 11,
     "metadata": {},
     "output_type": "execute_result"
    }
   ],
   "source": [
    "H = np.random.randn(d, d)\n",
    "H"
   ]
  },
  {
   "cell_type": "code",
   "execution_count": 12,
   "metadata": {},
   "outputs": [
    {
     "data": {
      "text/plain": [
       "array([[ 2.10695542,  1.56549967, -1.5256256 ,  1.25139208,  0.24167997],\n",
       "       [ 0.52162423,  0.88300273, -0.6619922 ,  1.12960371, -0.73715075],\n",
       "       [ 1.67174455, -0.52109014, -0.93951383, -0.495699  , -0.69448001],\n",
       "       [ 0.355042  , -1.05071474, -0.72742885,  0.3923006 , -0.27698747],\n",
       "       [ 0.03856578, -0.3858428 , -0.33702465, -0.6068946 , -0.21870612]])"
      ]
     },
     "execution_count": 12,
     "metadata": {},
     "output_type": "execute_result"
    }
   ],
   "source": [
    "H @ D"
   ]
  },
  {
   "cell_type": "code",
   "execution_count": 14,
   "metadata": {},
   "outputs": [
    {
     "data": {
      "text/plain": [
       "array([[ 2.10695542,  1.56549967, -1.5256256 ,  1.25139208,  0.24167997],\n",
       "       [ 0.52162423,  0.88300273, -0.6619922 ,  1.12960371, -0.73715075],\n",
       "       [ 1.67174455, -0.52109014, -0.93951383, -0.495699  , -0.69448001],\n",
       "       [ 0.355042  , -1.05071474, -0.72742885,  0.3923006 , -0.27698747],\n",
       "       [ 0.03856578, -0.3858428 , -0.33702465, -0.6068946 , -0.21870612]])"
      ]
     },
     "execution_count": 14,
     "metadata": {},
     "output_type": "execute_result"
    }
   ],
   "source": [
    "H * diag"
   ]
  },
  {
   "cell_type": "code",
   "execution_count": 31,
   "metadata": {},
   "outputs": [],
   "source": [
    "import numpy as np\n",
    "m = 10\n",
    "d = 3000\n",
    "Z = np.random.randn(2*m, d)"
   ]
  },
  {
   "cell_type": "code",
   "execution_count": 32,
   "metadata": {},
   "outputs": [
    {
     "data": {
      "text/plain": [
       "array([[-0.04760708, -0.26843845, -0.23856439, ..., -0.26832272,\n",
       "        -0.0312922 ,  0.16688416],\n",
       "       [ 0.06600936, -0.17981478, -0.1823441 , ..., -0.0306142 ,\n",
       "        -0.27955009,  0.07267722],\n",
       "       [ 0.50448177,  0.42852827, -0.18889725, ..., -0.0754492 ,\n",
       "        -0.31903144, -0.13010278],\n",
       "       ...,\n",
       "       [ 0.44322595,  0.41212079, -0.31426023, ...,  0.0399892 ,\n",
       "        -0.30212222, -0.07416323],\n",
       "       [ 0.20145168,  0.20116141, -0.04863898, ...,  0.03050237,\n",
       "        -0.02027622, -0.0794535 ],\n",
       "       [ 0.10692406, -0.19812716, -0.14993555, ...,  0.1468529 ,\n",
       "        -0.02055462,  0.16492724]])"
      ]
     },
     "execution_count": 32,
     "metadata": {},
     "output_type": "execute_result"
    }
   ],
   "source": [
    "alpha=0.1\n",
    "U, S, Vt = np.linalg.svd(Z, full_matrices=False)\n",
    "delta = S[m-1]**2\n",
    "# Add this value to alpha\n",
    "alpha += delta\n",
    "# Compute ̂Σ = √ (Σ² - δI) (remove empty rows (0 value rows))\n",
    "S, Vt = S[:m-1], Vt[:m-1, :]\n",
    "diff = np.diag(S**2 - delta) \n",
    "S_hat =  np.sqrt(diff)\n",
    "# Compute Z\n",
    "Z_new_1 = (S_hat @ Vt)\n",
    "Z_new_1"
   ]
  },
  {
   "cell_type": "code",
   "execution_count": 33,
   "metadata": {},
   "outputs": [
    {
     "data": {
      "text/plain": [
       "array([[-0.04760708, -0.26843845, -0.23856439, ..., -0.26832272,\n",
       "        -0.0312922 ,  0.16688416],\n",
       "       [ 0.06600936, -0.17981478, -0.1823441 , ..., -0.0306142 ,\n",
       "        -0.27955009,  0.07267722],\n",
       "       [ 0.50448177,  0.42852827, -0.18889725, ..., -0.0754492 ,\n",
       "        -0.31903144, -0.13010278],\n",
       "       ...,\n",
       "       [ 0.44322595,  0.41212079, -0.31426023, ...,  0.0399892 ,\n",
       "        -0.30212222, -0.07416323],\n",
       "       [ 0.20145168,  0.20116141, -0.04863898, ...,  0.03050237,\n",
       "        -0.02027622, -0.0794535 ],\n",
       "       [ 0.10692406, -0.19812716, -0.14993555, ...,  0.1468529 ,\n",
       "        -0.02055462,  0.16492724]])"
      ]
     },
     "execution_count": 33,
     "metadata": {},
     "output_type": "execute_result"
    }
   ],
   "source": [
    "alpha=0.1\n",
    "U, S, Vt = np.linalg.svd(Z, full_matrices=False)\n",
    "delta = S[m-1]**2\n",
    "# Add this value to alpha\n",
    "alpha += delta\n",
    "# Compute ̂Σ = √ (Σ² - δI) (remove empty rows (0 value rows))\n",
    "diff = np.diag(S**2 - delta) \n",
    "diff[diff<0] = 0\n",
    "S_hat =  np.sqrt(diff)\n",
    "# Compute Z\n",
    "Z_new_2 = (S_hat @ Vt)[:m-1]\n",
    "Z_new_2"
   ]
  },
  {
   "cell_type": "code",
   "execution_count": 35,
   "metadata": {},
   "outputs": [
    {
     "data": {
      "text/plain": [
       "0.0"
      ]
     },
     "execution_count": 35,
     "metadata": {},
     "output_type": "execute_result"
    }
   ],
   "source": [
    "np.sum(Z_new_1-Z_new_2)"
   ]
  },
  {
   "cell_type": "code",
   "execution_count": 33,
   "metadata": {},
   "outputs": [
    {
     "data": {
      "text/plain": [
       "array([[ 0.6929556 , -1.22663214, -0.15937112, -0.86985546,  1.06733843,\n",
       "        -1.10476023, -0.11030366,  0.19398492, -0.00368626,  0.2674506 ],\n",
       "       [ 0.02041191, -0.34322014, -0.17054399, -0.37053085, -2.28151968,\n",
       "         0.39743122,  0.51839199,  0.56779797, -0.41243286,  0.01392036],\n",
       "       [ 1.48486084,  1.76594153,  0.36783419,  0.57709733,  0.90758189,\n",
       "         0.62130184, -0.61799852, -0.81943538, -0.3841727 , -1.2986693 ],\n",
       "       [ 0.08556053,  0.67511959,  0.59953224, -0.64253128, -2.68621938,\n",
       "         0.52995913,  0.62111151, -0.07337686, -0.48432589, -0.84995713],\n",
       "       [-0.29421687, -0.23576961, -1.12511846,  1.55943602,  1.16532433,\n",
       "         0.66012706, -0.50885563,  0.54869508,  0.21941796,  1.02394178],\n",
       "       [-2.21388867,  0.72397248,  1.73264759, -0.65007227,  2.39669259,\n",
       "        -1.33747103,  0.09058845, -1.58633155,  1.29018517, -0.23057471],\n",
       "       [ 1.14085931, -0.62190996, -0.19576752, -0.27026887,  2.59628188,\n",
       "        -0.99922082, -0.63099575, -0.19168112,  0.08780162,  0.05548483],\n",
       "       [-0.20615847,  1.34386417,  0.82679867, -0.23111925, -2.15256168,\n",
       "         0.74446033,  0.46803345, -0.45357384, -0.30074138, -1.03019651],\n",
       "       [-1.84973905, -0.16324786,  0.29165889,  0.06670552, -0.20465113,\n",
       "        -0.12956583,  0.37402249, -0.07073424,  0.61902723,  0.60535842],\n",
       "       [-2.31074934,  0.72325329,  0.15743903,  1.03884073, -0.7893148 ,\n",
       "         0.85803032,  0.33415444, -0.09149341,  0.61993383,  0.57425978]])"
      ]
     },
     "execution_count": 33,
     "metadata": {},
     "output_type": "execute_result"
    }
   ],
   "source": [
    "u[:, :4] @ np.diag(s[:4]) @ vt[:4, :]"
   ]
  },
  {
   "cell_type": "code",
   "execution_count": 34,
   "metadata": {},
   "outputs": [
    {
     "data": {
      "text/plain": [
       "10"
      ]
     },
     "execution_count": 34,
     "metadata": {},
     "output_type": "execute_result"
    }
   ],
   "source": [
    "np.linalg.matrix_rank(Z)"
   ]
  },
  {
   "cell_type": "code",
   "execution_count": 104,
   "metadata": {},
   "outputs": [],
   "source": [
    "import numpy as np\n",
    "from scipy.linalg import hadamard\n",
    "\n",
    "import time\n",
    "actions = 1000\n",
    "d=5\n",
    "k=3\n",
    "c1=1\n",
    "seed = 48\n",
    "rng = np.random.RandomState(seed)\n",
    "action_set = rng.randn(actions, d)\n"
   ]
  },
  {
   "cell_type": "code",
   "execution_count": 105,
   "metadata": {},
   "outputs": [],
   "source": [
    "## Generate P\n",
    "q = min(1, (c1 * (np.log10(actions)))/d)\n",
    "P = np.zeros((k, d))\n",
    "probabilities = rng.random((k, d))\n",
    "n_samples = len(probabilities[probabilities <= q])\n",
    "P[probabilities <= q] = rng.normal(0, np.sqrt(1 / q), size = n_samples)\n",
    "\n",
    "## Generate H\n",
    "# In case the original dim is not a power 2 \n",
    "power = np.log2(d)\n",
    "next_dim_power_2 = d if power == int(power) else 2**(int(power)+1)\n",
    "H = hadamard(next_dim_power_2)[:d,:d] * (1./np.sqrt(d))\n",
    "\n",
    "## Generate D\n",
    "diag = rng.choice([-1, 1], p=[0.5, 0.5], size=d)\n",
    "\n",
    "phi = (1 /np.sqrt(k)) * P @ (H * diag)"
   ]
  },
  {
   "cell_type": "code",
   "execution_count": 92,
   "metadata": {},
   "outputs": [],
   "source": [
    "# In case the original dim is not a power 2 \n",
    "power = np.log2(d)\n",
    "next_dim_power_2 = d if power == int(power) else 2**(int(power)+1)\n",
    "## Generate P\n",
    "q = min(1, (c1 * (np.log10(actions)))/d)\n",
    "P_new= np.zeros((k, next_dim_power_2))\n",
    "probabilities = rng.random((k, next_dim_power_2))\n",
    "n_samples = len(probabilities[probabilities <= q])\n",
    "P_new[probabilities <= q] = rng.normal(0, np.sqrt(1 / q), size = n_samples)\n",
    "P_new[:k, :d] = P\n",
    "\n",
    "## Generate H\n",
    "H_new = hadamard(next_dim_power_2) * (1./np.sqrt(d))\n",
    "\n",
    "## Generate D\n",
    "diag_new = rng.choice([-1, 1], p=[0.5, 0.5], size=next_dim_power_2)\n",
    "diag_new[:d] = diag\n",
    "\n",
    "phi_new = (1 /np.sqrt(k)) * P_new @ (H_new * diag_new)"
   ]
  },
  {
   "cell_type": "code",
   "execution_count": 106,
   "metadata": {},
   "outputs": [
    {
     "data": {
      "text/plain": [
       "array([[-1.4967482 ,  0.17763896, -0.6159898 ],\n",
       "       [-0.37411745, -0.96290456, -1.70229578],\n",
       "       [ 0.59427569,  1.61397853,  0.38609433],\n",
       "       ...,\n",
       "       [ 1.37037765, -1.29121021, -1.02819729],\n",
       "       [ 0.60907315,  0.27022248,  0.22126501],\n",
       "       [ 2.43030426, -0.42604783, -0.67752821]])"
      ]
     },
     "execution_count": 106,
     "metadata": {},
     "output_type": "execute_result"
    }
   ],
   "source": [
    "\n",
    "c1=1\n",
    "c=6\n",
    "p=2\n",
    "eps=1\n",
    "n=actions\n",
    "original_dim = d\n",
    "power = np.log2(original_dim)\n",
    "dim = original_dim if power == int(power) else 2**(int(power)+1)\n",
    "actions = action_set.shape[0] \n",
    "\n",
    "# Generate P\n",
    "q = min(1, (c1 * (eps**(p-2) ) * (np.log10(n)**p))/d)\n",
    "\n",
    "P = np.zeros((k, dim))\n",
    "probabilities = rng.random((k, dim))\n",
    "n_samples = len(probabilities[probabilities <= q])\n",
    "P[probabilities <= q] = rng.normal(0, np.sqrt(1 / q), size = n_samples)\n",
    "\n",
    "H = hadamard(dim) * (1./np.sqrt(dim))\n",
    "D = np.diag(rng.choice([-1, 1], p=[0.5, 0.5], size=dim))\n",
    "\n",
    "phi = (1 /np.sqrt(k)) * P @ H @ D\n",
    "# action_set_new = np.zeros(dim)\n",
    "action_set_new = np.zeros((action_set.shape[0], dim))\n",
    "action_set_new[:action_set.shape[0], :action_set.shape[1]] = action_set\n",
    "action_set_new @ phi.T\n"
   ]
  },
  {
   "cell_type": "code",
   "execution_count": 107,
   "metadata": {},
   "outputs": [
    {
     "data": {
      "text/plain": [
       "array([1.24644831, 0.90604513, 1.01579321])"
      ]
     },
     "execution_count": 107,
     "metadata": {},
     "output_type": "execute_result"
    }
   ],
   "source": [
    "a = np.random.randn(d)\n",
    "action_set_new = np.zeros(dim)\n",
    "action_set_new[:d] = a\n",
    "phi @ action_set_new"
   ]
  },
  {
   "cell_type": "code",
   "execution_count": 110,
   "metadata": {},
   "outputs": [
    {
     "data": {
      "text/plain": [
       "array([ 1.26436054,  0.60772933, -0.09547445])"
      ]
     },
     "execution_count": 110,
     "metadata": {},
     "output_type": "execute_result"
    }
   ],
   "source": [
    "phi @ a"
   ]
  },
  {
   "cell_type": "code",
   "execution_count": 109,
   "metadata": {},
   "outputs": [
    {
     "data": {
      "text/plain": [
       "array([[-1.47732889,  0.27723487, -0.52423594],\n",
       "       [-0.18360589, -0.74353189, -0.40608477],\n",
       "       [ 1.04627143,  1.00012483, -0.22482783],\n",
       "       ...,\n",
       "       [ 1.18041536, -1.11176972,  0.25212653],\n",
       "       [ 0.7665298 ,  0.0688107 ,  0.25404739],\n",
       "       [ 1.90761691, -0.32216602, -0.97150563]])"
      ]
     },
     "execution_count": 109,
     "metadata": {},
     "output_type": "execute_result"
    }
   ],
   "source": [
    "P = P[:, :d]\n",
    "H = H[:d, :d]\n",
    "D = D[:d, :d]\n",
    "\n",
    "phi = (1 /np.sqrt(k)) * P @ H @ D\n",
    "action_set @ phi.T\n"
   ]
  },
  {
   "cell_type": "code",
   "execution_count": 92,
   "metadata": {},
   "outputs": [
    {
     "name": "stdout",
     "output_type": "stream",
     "text": [
      "0.26832256792999953\n"
     ]
    }
   ],
   "source": [
    "t0 = time.process_time()\n",
    "times = []\n",
    "for _ in range(1000):\n",
    "    action_set_proj = (1 /np.sqrt(k)) *( P @ ((H * diag) @ (action_set).T))\n",
    "    times.append(time.process_time() - t0)\n",
    "print (np.mean(times))"
   ]
  },
  {
   "cell_type": "code",
   "execution_count": 91,
   "metadata": {},
   "outputs": [
    {
     "name": "stdout",
     "output_type": "stream",
     "text": [
      "0.0025376856160004044\n"
     ]
    }
   ],
   "source": [
    "t0 = time.process_time()\n",
    "times = []\n",
    "for _ in range(1000):\n",
    "    action_set_proj_phi = action_set @ phi.T\n",
    "    times.append(time.process_time() - t0)\n",
    "print (np.mean(times))\n"
   ]
  },
  {
   "cell_type": "code",
   "execution_count": 41,
   "metadata": {},
   "outputs": [],
   "source": [
    "import numpy as np\n",
    "from sklearn.random_projection import sample_without_replacement\n",
    "import scipy.sparse as sp\n",
    "rng = np.random.RandomState(48)"
   ]
  },
  {
   "cell_type": "code",
   "execution_count": 47,
   "metadata": {},
   "outputs": [],
   "source": []
  },
  {
   "cell_type": "code",
   "execution_count": 48,
   "metadata": {},
   "outputs": [
    {
     "data": {
      "text/plain": [
       "array([[-0.26061281,  0.        , -1.52198063,  0.        ,  0.        ,\n",
       "        -0.17960961,  0.        ,  0.        ],\n",
       "       [ 0.        , -0.79099822, -0.28433449, -0.4391394 , -0.92167053,\n",
       "         0.        ,  0.        , -0.39182149]])"
      ]
     },
     "execution_count": 48,
     "metadata": {},
     "output_type": "execute_result"
    }
   ],
   "source": [
    "P @ np.identity(P.shape[1])"
   ]
  },
  {
   "cell_type": "code",
   "execution_count": 46,
   "metadata": {},
   "outputs": [
    {
     "data": {
      "text/plain": [
       "array([[ 0.        ,  0.        ,  1.34439206,  0.        ,  0.        ,\n",
       "        -0.62937513,  0.        ,  0.18642346],\n",
       "       [-0.39770503,  0.        ,  0.        ,  0.        ,  0.84652054,\n",
       "        -1.11592472,  0.        ,  1.78043341]])"
      ]
     },
     "execution_count": 46,
     "metadata": {},
     "output_type": "execute_result"
    }
   ],
   "source": [
    "P"
   ]
  },
  {
   "cell_type": "code",
   "execution_count": 48,
   "metadata": {},
   "outputs": [],
   "source": [
    "import numpy as np\n",
    "from scipy.linalg import hadamard\n",
    "\n",
    "def generate_phi(d, n, c=0.001, k=None, eps=0.1, p=2, c1=1, rng=None):\n",
    "    \"\"\"\n",
    "        Generate FJLT matrix\n",
    "            source: https://www.cs.princeton.edu/~chazelle/pubs/FJLT-sicomp09.pdf\n",
    "        n: number of points\n",
    "        d: dimension\n",
    "        k: projected dimension\n",
    "        c: constant used in matrix embedding generation\n",
    "        eps: distortion parameter in FJLT\n",
    "        p: kind of embedding we project to\n",
    "\n",
    "    \"\"\"\n",
    "    if k is None:\n",
    "        k = math.ceil(c * eps**(-2) * np.log10(n))\n",
    "    # In case the original dim is not a power 2 \n",
    "    power = np.log2(d)\n",
    "    next_dim_power_2 = d if power == int(power) else 2**(int(power)+1)\n",
    "\n",
    "    ## Generate P\n",
    "    q = min(1, (c1 * (eps**(p-2) ) * (np.log10(n)**p))/next_dim_power_2)\n",
    "    P = np.zeros((k, next_dim_power_2))\n",
    "    probabilities = rng.random((k, next_dim_power_2))\n",
    "    n_samples = len(probabilities[probabilities <= q])\n",
    "    P[probabilities <= q] = rng.normal(0, np.sqrt(1 / q), size = n_samples)\n",
    "\n",
    "    ## Generate H\n",
    "    H = hadamard(next_dim_power_2) * (1./np.sqrt(next_dim_power_2))\n",
    "\n",
    "    ## Generate D\n",
    "    diag = rng.choice([-1, 1], p=[0.5, 0.5], size=next_dim_power_2)\n",
    "\n",
    "    phi = (1 /np.sqrt(k)) * P @ (H * diag)\n",
    "    ### Test\n",
    "    H = H[:, :d]\n",
    "    diag = diag[:d]\n",
    "    phi_d = (1 /np.sqrt(k)) * P @ (H * diag)\n",
    "\n",
    "\n",
    "    return phi, phi_d\n"
   ]
  },
  {
   "cell_type": "code",
   "execution_count": 49,
   "metadata": {},
   "outputs": [],
   "source": [
    "m = 10000\n",
    "d = 10000\n",
    "k = 100\n",
    "rng = np.random.RandomState(48)\n",
    "action_set = rng.randn(m, d)\n",
    "# In case the original dim is not a power 2 \n",
    "power = np.log2(d)\n",
    "next_dim_power_2 = d if power == int(power) else 2**(int(power)+1)\n",
    "action_set_pad0 = np.zeros((m, next_dim_power_2))\n",
    "action_set_pad0[:, :d] = action_set"
   ]
  },
  {
   "cell_type": "code",
   "execution_count": 51,
   "metadata": {},
   "outputs": [],
   "source": [
    "phi, phi_d = generate_phi(d, m, k=k, rng=rng)"
   ]
  },
  {
   "cell_type": "code",
   "execution_count": 52,
   "metadata": {},
   "outputs": [],
   "source": [
    "a = action_set_pad0 @ phi.T\n",
    "b = action_set @ phi_d.T"
   ]
  },
  {
   "cell_type": "code",
   "execution_count": 53,
   "metadata": {},
   "outputs": [
    {
     "data": {
      "text/plain": [
       "3.7902363539399353e-13"
      ]
     },
     "execution_count": 53,
     "metadata": {},
     "output_type": "execute_result"
    }
   ],
   "source": [
    "np.sum(a-b)"
   ]
  },
  {
   "cell_type": "code",
   "execution_count": 46,
   "metadata": {},
   "outputs": [
    {
     "data": {
      "text/plain": [
       "array([[ -0.66162654,   2.79870645,  -6.02525729, ...,   0.53103741,\n",
       "         -9.77680388,  -5.37455944],\n",
       "       [  6.26574715,  -3.27091026,   3.20487192, ...,  -5.16063651,\n",
       "          8.01070632,  -1.66089298],\n",
       "       [ 13.39073912,  -2.13637544,   0.03076496, ..., -11.75936279,\n",
       "          3.00839807,   2.51596159],\n",
       "       ...,\n",
       "       [ -3.59244904,   3.75899413,   2.59847238, ...,  -5.83857269,\n",
       "        -17.42538875,  -7.28868103],\n",
       "       [  1.57758726,  -3.89275093,   2.18810189, ...,  -7.68594921,\n",
       "         -2.89955566,  -5.08082428],\n",
       "       [ -0.09662227,   7.85167437,  -1.17468676, ...,   1.93261079,\n",
       "          5.03716435,  -7.66130657]])"
      ]
     },
     "execution_count": 46,
     "metadata": {},
     "output_type": "execute_result"
    }
   ],
   "source": [
    "a"
   ]
  },
  {
   "cell_type": "code",
   "execution_count": 47,
   "metadata": {},
   "outputs": [
    {
     "data": {
      "text/plain": [
       "array([[ -0.66162654,   2.79870645,  -6.02525729, ...,   0.53103741,\n",
       "         -9.77680388,  -5.37455944],\n",
       "       [  6.26574715,  -3.27091026,   3.20487192, ...,  -5.16063651,\n",
       "          8.01070632,  -1.66089298],\n",
       "       [ 13.39073912,  -2.13637544,   0.03076496, ..., -11.75936279,\n",
       "          3.00839807,   2.51596159],\n",
       "       ...,\n",
       "       [ -3.59244904,   3.75899413,   2.59847238, ...,  -5.83857269,\n",
       "        -17.42538875,  -7.28868103],\n",
       "       [  1.57758726,  -3.89275093,   2.18810189, ...,  -7.68594921,\n",
       "         -2.89955566,  -5.08082428],\n",
       "       [ -0.09662227,   7.85167437,  -1.17468676, ...,   1.93261079,\n",
       "          5.03716435,  -7.66130657]])"
      ]
     },
     "execution_count": 47,
     "metadata": {},
     "output_type": "execute_result"
    }
   ],
   "source": [
    "b"
   ]
  },
  {
   "cell_type": "code",
   "execution_count": null,
   "metadata": {},
   "outputs": [],
   "source": []
  }
 ],
 "metadata": {
  "kernelspec": {
   "display_name": "Python 3",
   "language": "python",
   "name": "python3"
  },
  "language_info": {
   "codemirror_mode": {
    "name": "ipython",
    "version": 3
   },
   "file_extension": ".py",
   "mimetype": "text/x-python",
   "name": "python",
   "nbconvert_exporter": "python",
   "pygments_lexer": "ipython3",
   "version": "3.10.12"
  }
 },
 "nbformat": 4,
 "nbformat_minor": 2
}
